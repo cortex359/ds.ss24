{
 "cells": [
  {
   "cell_type": "markdown",
   "source": [
    "# Übung 2.1\n",
    "\n",
    "**Gruppenname:**\n",
    "\n",
    "*Name Ihrer Gruppe*\n",
    "\n",
    "Gehen Sie wie folgt vor:\n",
    "\n",
    "1. Bitte benennen Sie jetzt dieses Jupyter Notebook um (z.B. über `File -> Rename`):\n",
    "\n",
    "   Namensschema: `Gruppenname-X`. Ersetzen Sie \"X\" mit der oben angegebenen Nummer der Übung.\n",
    "\n",
    "   - Beispiel 1: Team REZA bearbeitet Übung 2. Das Notebook heißt: REZA-2.\n",
    "   - Beispiel 2: Sie sind keinem Team zugeordnet (nicht empfehlenswert) und bearbeiten Übung 2: Ihr Notebook heißt: Nachname-2.\n",
    "\n",
    "\n",
    "2. Tragen Sie Ihren Gruppennamen auch ganz oben bei \"Name Ihrer Gruppe\" ein.\n",
    "\n",
    "3. Bearbeiten Sie dann dieses Notebook. Vergessen Sie dabei nicht, das Jupyter Notebook regelmäßig zu speichern (z.B. über `Strg + S` oder über `File -> Save and Checkpoint`)."
   ],
   "metadata": {
    "collapsed": false
   }
  },
  {
   "cell_type": "markdown",
   "source": [
    "In dieser Übung werden wir uns mit wichtigen Software-Werkzeugen für Data Science vertraut machen. In diesem Notebook finden Sie Übung 2.1, die sich mit Numpy beschäftigt. Übung 2.2 (Pandas) finden Sie bei ILIAs.\n",
    "\n",
    "Diese Übungen dienen dazu, Sie auf verschiedene Aspekte der in den kommenden Wochen in den Übungen genutzten Werkzeuge aufmerksam zu machen.\n",
    "\n",
    "* Wenn Sie in Ihrem bisherigen Studienverlauf noch nicht viel mit Python zu tun hatten, schauen Sie doch gerne einmal bei ILIAS unter \"Lernressourcen\" nach. Ich habe Ihnen dort Inhalte hinterlegt, die Sie nutzen können, um sich im Selbststudium mit Python vertrauter zu machen."
   ],
   "metadata": {
    "collapsed": false
   }
  },
  {
   "cell_type": "markdown",
   "metadata": {},
   "source": [
    "## 2.1.1 Shapes und Co.\n",
    "\n",
    "Bei vielen Data Science Projekten werden Daten zunächst zugänglich gemacht, sodass sie als Numpy Arrays vorliegen. Das Verständnis von *Shapes* solcher Arrays ist eine wichtige Voraussetzung für eine produktive Arbeit mit diesen Datenstrukturen.\n",
    "\n",
    "Nehmen Sie die Folien zur heutigen Vorlesung zur Hand.\n",
    "\n",
    "**Ihre Aufgaben**\n",
    "\n",
    "(1) Betrachten Sie den untenstehenden Code. Beantworten Sie: Welchen [Shape](https://docs.scipy.org/doc/numpy/reference/generated/numpy.ndarray.shape.html) hat das Numpy Array `a`? "
   ]
  },
  {
   "metadata": {
    "ExecuteTime": {
     "end_time": "2024-04-12T08:47:05.445395Z",
     "start_time": "2024-04-12T08:47:05.323619Z"
    }
   },
   "cell_type": "code",
   "source": [
    "import numpy as np\n",
    "a = np.array([5, 10, 15, 20])"
   ],
   "outputs": [],
   "execution_count": 2
  },
  {
   "metadata": {
    "ExecuteTime": {
     "end_time": "2024-04-12T08:47:07.034261Z",
     "start_time": "2024-04-12T08:47:07.026635Z"
    }
   },
   "cell_type": "code",
   "source": [
    "# 2.1.1 (1)\n",
    "a.shape"
   ],
   "outputs": [
    {
     "data": {
      "text/plain": [
       "(4,)"
      ]
     },
     "execution_count": 3,
     "metadata": {},
     "output_type": "execute_result"
    }
   ],
   "execution_count": 3
  },
  {
   "metadata": {},
   "cell_type": "markdown",
   "source": "`a` hat den Shape `(4,)`"
  },
  {
   "metadata": {},
   "cell_type": "markdown",
   "source": "(2) Lässt sich das Array `a` als (mathematischen) Vektor interpretieren? Wenn `a` ein Vektor ist, können Sie ihn [transponieren](https://docs.scipy.org/doc/numpy/reference/generated/numpy.ndarray.T.html)?"
  },
  {
   "metadata": {
    "jupyter": {
     "is_executing": true
    }
   },
   "cell_type": "code",
   "source": [
    "a_as_vector = np.array([[5, 10, 15, 20]])\n",
    "print(a_as_vector.shape)\n",
    "a_as_vector_transpose = a_as_vector.T\n",
    "print(a_as_vector_transpose.shape)"
   ],
   "outputs": [],
   "execution_count": null
  },
  {
   "metadata": {},
   "cell_type": "markdown",
   "source": "`a` ist kein Vektor in einer mathematischen Sinne, weil `a.T.shape` hat keine Wirkung auf Shape von `a`. Wäre `a` ein Vektor, hätte man den shape `(1, 4)` anstatt `(4, 1)`."
  },
  {
   "cell_type": "markdown",
   "metadata": {},
   "source": [
    "(3) Betrachten Sie das unten stehende Array `b`. Erzeugen Sie aus `b` bitte zwei neue Arrays `c` und `d`: `c` soll ein Spaltenvektor sein, und `d` soll ein Zeilenvektor sein. Wie gehen Sie vor?"
   ]
  },
  {
   "cell_type": "code",
   "metadata": {
    "jupyter": {
     "is_executing": true
    }
   },
   "source": [
    "b = np.array([2, 4, 6, 8, 10])\n",
    "\n",
    "c = b[:, np.newaxis]\n",
    "d = c.T\n",
    "print(c)\n",
    "print(d)\n"
   ],
   "outputs": [],
   "execution_count": null
  },
  {
   "cell_type": "markdown",
   "metadata": {},
   "source": [
    "Lässt sich `c` bzw. `d` transponieren? Warum?"
   ]
  },
  {
   "metadata": {},
   "cell_type": "markdown",
   "source": "Ja, weil `c` hat den Shape `(5, 1)` und `d` hat den Shape `(1, 5)`, sie sind zweidimensional"
  },
  {
   "cell_type": "markdown",
   "metadata": {},
   "source": "(4) Betrachten Sie die dritte Zeile des unten stehenden Codes: Hat sich durch die Zeile `k[0, 1] = 10` das Array `m` geändert? Falls ja, warum? Falls nein, warum hat es sich nicht geändert?"
  },
  {
   "cell_type": "code",
   "metadata": {
    "ExecuteTime": {
     "end_time": "2024-04-12T08:58:36.010442Z",
     "start_time": "2024-04-12T08:58:36.006725Z"
    }
   },
   "source": [
    "k = np.array([[1,2,3,4], [5,6,7,8], [9,10,11,12]])\n",
    "m = k[:2, 1:3]\n",
    "k[0, 1] = 10"
   ],
   "outputs": [],
   "execution_count": 17
  },
  {
   "metadata": {},
   "cell_type": "markdown",
   "source": "Ja, `m` wurde geändert, weil slicing von NumPy Array liefert eine View von Array"
  },
  {
   "cell_type": "markdown",
   "metadata": {},
   "source": [
    "(5) Betrachten Sie die dritte Zeile des unten stehenden Codes: Hat sich durch die Änderung des Arrays `p` der Inhalt von `q` geändert? Falls ja, warum? Falls nein, warum hat es sich nicht geändert?"
   ]
  },
  {
   "cell_type": "code",
   "metadata": {
    "ExecuteTime": {
     "end_time": "2024-04-12T09:01:52.716625Z",
     "start_time": "2024-04-12T09:01:52.711885Z"
    }
   },
   "source": [
    "p = np.array([[1,2,3,4], [5,6,7,8], [9,10,11,12]])\n",
    "print(p)\n",
    "q = p[[1, 2], 0]\n",
    "print(q)\n",
    "p[1, 0] = 25\n",
    "print(p)\n",
    "print(q)"
   ],
   "outputs": [
    {
     "name": "stdout",
     "output_type": "stream",
     "text": [
      "[[ 1  2  3  4]\n",
      " [ 5  6  7  8]\n",
      " [ 9 10 11 12]]\n",
      "[5 9]\n",
      "[[ 1  2  3  4]\n",
      " [25  6  7  8]\n",
      " [ 9 10 11 12]]\n",
      "[5 9]\n"
     ]
    }
   ],
   "execution_count": 20
  },
  {
   "metadata": {},
   "cell_type": "markdown",
   "source": "Es ha sich geändert, weil es eine Kopie von `p` mit Advanced Indexing erzeugt wurde."
  },
  {
   "cell_type": "markdown",
   "metadata": {},
   "source": [
    "## 2.1.2 Broadcasting - Teil 1\n",
    "\n",
    "Nehmen Sie sich die Folien zur heutigen Vorlesung zur Hand. Unten sehen Sie eine Operation mit zwei Numpy Arrays `a` und `b`."
   ]
  },
  {
   "cell_type": "markdown",
   "metadata": {},
   "source": [
    "**Ihre Aufgaben**\n",
    "\n",
    "(1) Betrachten Sie die unten stehende Code-Zelle. Welchen Shape (Anzahl Zeilen, Anzahl Spalten) wird das Numpy Array `c` erhalten? \n",
    "\n",
    "  * Tragen Sie ihre Voraussage in die Variable `shape` ein. \n",
    "  * Begründen Sie Ihre Vorhersage mit den drei Broadcasting Regeln aus der Vorlesung.\n",
    "  * Berechnen Sie auf Papier das zu erwartende Ergebnis. Tragen Sie es als Numpy Array in die Variable `ergebnis` ein.\n",
    "  * Führen Sie dann jeweils die Zelle aus, um zu schauen, ob Sie richtig lagen."
   ]
  },
  {
   "cell_type": "code",
   "metadata": {
    "ExecuteTime": {
     "end_time": "2024-04-12T09:04:13.838975Z",
     "start_time": "2024-04-12T09:04:13.832068Z"
    }
   },
   "source": [
    "import numpy as np\n",
    "\n",
    "a = np.array([1, 2, 3])\n",
    "b = np.array([4, 5, 6])\n",
    "\n",
    "c = a + b\n",
    "\n",
    "# Ihre Vorhersagen\n",
    "shape = (3,) \n",
    "ergebnis = np.array([5, 7, 9])\n",
    "\n",
    "print('{}\\n'.format('Shape korrekt.' if np.all(shape==c.shape) else 'Shape nicht korrekt.'))\n",
    "print('{}\\n'.format('Ergebnis korrekt.' if np.array_equal(ergebnis, c) else 'Ergebnis nicht korrekt.'))"
   ],
   "outputs": [
    {
     "name": "stdout",
     "output_type": "stream",
     "text": [
      "Shape korrekt.\n",
      "\n",
      "Ergebnis korrekt.\n",
      "\n"
     ]
    }
   ],
   "execution_count": 21
  },
  {
   "cell_type": "markdown",
   "metadata": {},
   "source": [
    "(2) Betrachten Sie die unten stehende Code-Zelle. Welchen Shape (Anzahl Zeilen, Anzahl Spalten) wird das Numpy Array `c` erhalten? \n",
    "\n",
    "  * Tragen Sie ihre Voraussage in die Variable `shape` ein. \n",
    "  * Begründen Sie Ihre Vorhersage mit den drei Broadcasting Regeln aus der Vorlesung.\n",
    "  * Berechnen Sie auf Papier das zu erwartende Ergebnis. Tragen Sie es als Numpy Array in die Variable `ergebnis` ein.\n",
    "  * Führen Sie dann jeweils die Zelle aus, um zu schauen, ob Sie richtig lagen."
   ]
  },
  {
   "cell_type": "code",
   "metadata": {
    "ExecuteTime": {
     "end_time": "2024-04-12T09:06:47.271095Z",
     "start_time": "2024-04-12T09:06:47.266053Z"
    }
   },
   "source": [
    "a = np.array([1, 2, 3])\n",
    "b = np.array([4, 5, 6])[:, np.newaxis]\n",
    "\n",
    "c = a + b\n",
    "\n",
    "shape = (3, 3) # Ihre Vorhersage\n",
    "ergebnis = np.array([[5, 6, 7],\n",
    "                    [6, 7, 8],\n",
    "                    [7, 8, 9]])\n",
    "\n",
    "print('{}\\n'.format('Shape Korrekt.' if np.all(shape==c.shape) else 'Shape nicht korrekt.'))\n",
    "print('{}\\n'.format('Ergebnis korrekt.' if np.array_equal(ergebnis, c) else 'Ergebnis nicht korrekt.'))"
   ],
   "outputs": [
    {
     "name": "stdout",
     "output_type": "stream",
     "text": [
      "Shape Korrekt.\n",
      "\n",
      "Ergebnis korrekt.\n",
      "\n"
     ]
    }
   ],
   "execution_count": 23
  },
  {
   "cell_type": "markdown",
   "metadata": {},
   "source": [
    "(3) Betrachten Sie die unten stehende Code-Zelle. Welchen Shape (Anzahl Zeilen, Anzahl Spalten) wird das Numpy Array `c` erhalten? \n",
    "\n",
    "  * Tragen Sie ihre Voraussage in die Variable `shape` ein. \n",
    "  * Begründen Sie Ihre Vorhersage mit den drei Broadcasting Regeln aus der Vorlesung.\n",
    "  * Berechnen Sie auf Papier das zu erwartende Ergebnis. Tragen Sie es als Numpy Array in die Variable `ergebnis` ein.\n",
    "  * Führen Sie dann jeweils die Zelle aus, um zu schauen, ob Sie richtig lagen."
   ]
  },
  {
   "cell_type": "code",
   "metadata": {
    "ExecuteTime": {
     "end_time": "2024-04-12T09:15:34.276246Z",
     "start_time": "2024-04-12T09:15:34.269275Z"
    }
   },
   "source": [
    "a = np.array([[1, 0, 0], [0, 0, 2]])\n",
    "# 1 0 0 2, 3\n",
    "# 0 0 2\n",
    "b = np.ones(12).reshape((4, 1, 3))\n",
    "# 1 1 1 1\n",
    "# 1 1 1 1\n",
    "# 1 1 1 1\n",
    "# 1 1 1 1\n",
    "\n",
    "c = a * b \n",
    "\n",
    "shape = (4, 2, 3) # Ihre Vorhersage\n",
    "ergebnis = np.array([[[1, 0, 0], [0, 0, 2]],\n",
    "                    [[1, 0, 0], [0, 0, 2]],\n",
    "                    [[1, 0, 0], [0, 0, 2]],\n",
    "                    [[1, 0, 0], [0, 0, 2]]]) # Ich vermute, dass sie hierüber länger nachdenken werden.\n",
    "\n",
    "print('{}\\n'.format('Shape korrekt.' if np.all(shape==c.shape) else 'Shape nicht korrekt.'))\n",
    "print('{}\\n'.format('Ergebnis korrekt.' if np.array_equal(ergebnis, c) else 'Ergebnis nicht korrekt.'))"
   ],
   "outputs": [
    {
     "name": "stdout",
     "output_type": "stream",
     "text": [
      "Shape korrekt.\n",
      "\n",
      "Ergebnis korrekt.\n",
      "\n"
     ]
    }
   ],
   "execution_count": 25
  },
  {
   "cell_type": "markdown",
   "metadata": {},
   "source": [
    "## 2.1.3 Broadcasting Teil 2\n",
    "\n",
    "Ein häufiger Vorverarbeitungsschritt, der Ihnen in verschiedenen Data Science Projekten begegnen wird, ist die Normierung von Daten. Häufig werden dabei Datensätze, z.B. Zeitreihen, auf Mittelwert $0$ und Standardabweichung $1$ normiert. Dieser Vorgang wird auch *z-scoring* (oder: *Standardisierung*) genannt:\n",
    "\n",
    "Sei $x_i$ der $i$-te Datenpunkt einer Zeitreihe. Dann ist der z-score dieses Datenpunkts definiert als\n",
    "\n",
    "$$\\tilde{x}_i = \\frac{x_i - \\bar{x}}{\\sigma},$$ \n",
    "\n",
    "wobei $\\bar{x}$ der Mittelwert sowie $\\sigma$ die Standardabweichung der Zeitreihe bezeichnen.\n",
    "\n",
    "Das in der unten stehenden Code-Zelle definierte Numpy Array `X` enthält 5 Zeitreihen (Spalten) mit je 30 Einträgen (Zeilen). \n",
    "\n",
    "* Nutzen Sie Broadcasting sowie [np.mean](https://docs.scipy.org/doc/numpy/reference/generated/numpy.mean.html) und [np.std](https://docs.scipy.org/doc/numpy/reference/generated/numpy.std.html), um die Zeitreihen auf Mittelwert 0 und Varianz 1 zu normieren. Die transformierten Zeitreihen sollen im Numpy Array `Y` gespeichert werden. Dabei schreiben Sie nur eine Zeile Code, um die Zeitreihen zu transformieren.\n",
    "* Beachten Sie das `axis` Argument bei `np.mean` und `np.std`."
   ]
  },
  {
   "cell_type": "code",
   "metadata": {
    "ExecuteTime": {
     "end_time": "2024-04-12T09:25:44.475165Z",
     "start_time": "2024-04-12T09:25:44.469666Z"
    }
   },
   "source": [
    "import numpy as np\n",
    "np.random.seed(0)\n",
    "\n",
    "X = np.random.random((30, 5))\n",
    "\n",
    "# Ihr Ergebnis: Y = \n",
    "Y = (X - np.mean(X, axis=0))  / np.std(X, axis=0)\n",
    "print(Y)"
   ],
   "outputs": [
    {
     "name": "stdout",
     "output_type": "stream",
     "text": [
      "[[ 0.16740311  0.99146058  0.26566035 -0.19189575 -0.10401878]\n",
      " [ 0.55391341 -0.15048406  1.19070719  1.37326414 -0.23972755]\n",
      " [ 1.13451499  0.22511946  0.15453418  1.23099463 -1.29401013]\n",
      " [-1.67071577 -1.86737303  1.00137287  0.67994818  1.40231461]\n",
      " [ 1.8785996   1.33687639 -0.18655411  0.68881496 -1.13459362]\n",
      " [ 0.53013254 -1.36084517  1.36001366 -0.27798696 -0.13436721]\n",
      " [-0.96432242  1.23434539 -0.20361099 -0.10387638 -1.47032689]\n",
      " [ 0.44140643  0.56737441  0.31101693  1.29883439  0.76721883]\n",
      " [-0.58628567 -0.15276817  0.56930829 -2.00327065  0.71641712]\n",
      " [ 0.65242656 -1.08511345 -1.25097251 -1.04946742 -0.30631341]\n",
      " [ 0.25253703 -0.14631163  1.49990208 -1.84697374 -0.82883566]\n",
      " [-1.37537957  0.73608391 -0.85291057 -0.48555474 -0.7088681 ]\n",
      " [-1.38469563 -1.49650412  0.43711227 -1.71190993 -0.87032586]\n",
      " [-0.54958864  1.42669551 -1.35283637  0.90340231 -1.20943159]\n",
      " [ 1.87000439 -0.02269919  1.4627326   0.03220936  0.96107412]\n",
      " [-1.86158691 -0.78718832 -1.2789142  -1.12155557 -1.13306388]\n",
      " [-0.75160944 -0.24643059 -1.4583131   0.35970776  0.37838689]\n",
      " [-0.96100247  0.20189051 -1.36295318 -0.07579876  1.60238198]\n",
      " [-0.74927728  0.79491687 -1.24178136  0.4488645  -0.55707127]\n",
      " [-1.28826065  0.46213702 -1.59927386  0.86974719 -1.51789136]\n",
      " [ 0.68100723 -0.83983826  0.68953741  1.36775437 -0.69426381]\n",
      " [ 0.27626802  0.4848811   0.16800083 -1.39460694  1.68152878]\n",
      " [-0.23745125  1.53124451  0.57522352 -1.11670904  1.2126067 ]\n",
      " [-0.43898492  1.67396396  0.19687467  1.06706612  0.8033665 ]\n",
      " [ 0.86987272  0.11170526  1.39654929  0.17850991 -0.103343  ]\n",
      " [ 0.39664715 -1.8715903  -0.69836819  0.23899403 -0.5548051 ]\n",
      " [ 0.44291907 -0.1867599  -1.23001477 -1.11354951  0.38973764]\n",
      " [ 0.33485505  0.41200173  0.42709787  0.20883196 -0.07781864]\n",
      " [ 1.55184459 -0.43854041 -0.26853946  1.10514305  1.18694586]\n",
      " [ 0.78480875 -1.53824999  1.27939866  0.44106857  1.83709685]]\n"
     ]
    }
   ],
   "execution_count": 38
  },
  {
   "cell_type": "markdown",
   "metadata": {},
   "source": [
    "## 2.1.4 Advanced Indexing\n",
    "\n",
    "Nehmen Sie sich die Folien der heutigen Vorlesung zur Hand. In diesem Übungsteil geht es darum, Sie mit *Advanced Indexing* in Numpy Arrays vertraut zu machen.\n",
    "\n",
    "**Ihre Aufgaben**\n",
    "\n",
    "(1) Betrachten Sie den unten stehenden Code-Zellen.\n",
    "* Tragen Sie in der Variable `vorhersage` ein, welches Array Sie in Variable `y` erwarten.\n",
    "* Prüfen Sie durch Ausführen des Codes, ob Ihre Vorhersage richtig war.\n",
    "* Beantworten Sie die Frage: Wodurch wird der Shape des Arrays `y` bestimmt?"
   ]
  },
  {
   "cell_type": "code",
   "metadata": {
    "ExecuteTime": {
     "end_time": "2024-04-12T09:26:45.506698Z",
     "start_time": "2024-04-12T09:26:45.502103Z"
    }
   },
   "source": [
    "import numpy as np \n",
    "\n",
    "x = np.array([[1, 2], [3, 4], [5, 6]]) \n",
    "y = x[[0,1,2], [0,1,0]] \n",
    "\n",
    "vorhersage = np.array([1, 4, 5]) # Ihre Vorhersage\n",
    "\n",
    "print('{}\\n'.format('Ergebnis korrekt.' if np.array_equal(vorhersage, y) else 'Ergebnis nicht korrekt.'))"
   ],
   "outputs": [
    {
     "name": "stdout",
     "output_type": "stream",
     "text": [
      "Ergebnis korrekt.\n",
      "\n"
     ]
    }
   ],
   "execution_count": 39
  },
  {
   "cell_type": "markdown",
   "metadata": {},
   "source": [
    "(2) Betrachten Sie den unten stehenden Code-Zellen.\n",
    "* Tragen Sie in der Variable `vorhersage` ein, welches Array Sie in Variable `y` erwarten.\n",
    "* Prüfen Sie durch Ausführen des Codes, ob Ihre Vorhersage richtig war.\n",
    "* Beantworten Sie die Frage: Wodurch wird der Shape des Arrays `y` bestimmt?"
   ]
  },
  {
   "cell_type": "code",
   "metadata": {
    "ExecuteTime": {
     "end_time": "2024-04-12T09:28:58.162233Z",
     "start_time": "2024-04-12T09:28:58.158187Z"
    }
   },
   "source": [
    "x = np.array([[0,  1,  2], [3,  4,  5], [6,  7,  8], [9, 10, 11]]) \n",
    "   \n",
    "rows = np.array([[0,0],[3,3]])\n",
    "cols = np.array([[0,2],[0,2]]) \n",
    "y = x[rows,cols] \n",
    "\n",
    "vorhersage = np.array([[0, 2], \n",
    "                       [9, 11]]) # Ihre Vorhersage\n",
    "\n",
    "print('{}\\n'.format('Ergebnis korrekt.' if np.array_equal(vorhersage, y) else 'Ergebnis nicht korrekt.'))"
   ],
   "outputs": [
    {
     "name": "stdout",
     "output_type": "stream",
     "text": [
      "Ergebnis korrekt.\n",
      "\n"
     ]
    }
   ],
   "execution_count": 40
  },
  {
   "cell_type": "markdown",
   "metadata": {},
   "source": [
    "(3) Betrachten Sie den unten stehenden Code-Zellen.\n",
    "* Tragen Sie in der Variable `vorhersage` ein, welches Array Sie in Variable `y` erwarten.\n",
    "* Prüfen Sie durch Ausführen des Codes, ob Ihre Vorhersage richtig war.\n",
    "* Beantworten Sie die Frage: Wodurch wird der Shape des Arrays `y` bestimmt?"
   ]
  },
  {
   "cell_type": "code",
   "metadata": {
    "ExecuteTime": {
     "end_time": "2024-04-12T09:31:36.668680Z",
     "start_time": "2024-04-12T09:31:36.664401Z"
    }
   },
   "source": [
    "x = np.array([[0, 1, 2],[3, 4, 5],[6, 7, 8],[9, 10, 11]]) \n",
    "\n",
    "y = x[1:4,[1,2]] # Kombination von Slicing und Advanced Indexing\n",
    "\n",
    "vorhersage = np.array([[4, 5],\n",
    "                      [7, 8],\n",
    "                      [10, 11]]) # Ihre Vorhersage\n",
    "\n",
    "print('{}\\n'.format('Ergebnis korrekt.' if np.array_equal(vorhersage, y) else 'Ergebnis nicht korrekt.'))"
   ],
   "outputs": [
    {
     "name": "stdout",
     "output_type": "stream",
     "text": [
      "Ergebnis korrekt.\n",
      "\n"
     ]
    }
   ],
   "execution_count": 43
  },
  {
   "metadata": {},
   "cell_type": "code",
   "outputs": [],
   "execution_count": null,
   "source": ""
  }
 ],
 "metadata": {
  "kernelspec": {
   "display_name": "Python 3",
   "language": "python",
   "name": "python3"
  },
  "language_info": {
   "codemirror_mode": {
    "name": "ipython",
    "version": 3
   },
   "file_extension": ".py",
   "mimetype": "text/x-python",
   "name": "python",
   "nbconvert_exporter": "python",
   "pygments_lexer": "ipython3",
   "version": "3.7.7"
  },
  "learntools_metadata": {
   "lesson_index": 0,
   "type": "exercise"
  }
 },
 "nbformat": 4,
 "nbformat_minor": 1
}
