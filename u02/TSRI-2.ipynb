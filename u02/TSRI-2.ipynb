{
 "cells": [
  {
   "cell_type": "markdown",
   "source": [
    "# Übung 2.1\n",
    "\n",
    "**Gruppenname: TSRI**\n",
    "\n",
    "- Christian Rene Thelen @cortex359\n",
    "- Leonard Schiel @leo_paticumbum\n",
    "- Marine Raimbault @Marine Raimbault\n",
    "- Alexander Ivanets @sandrium"
   ],
   "metadata": {
    "collapsed": false
   }
  },
  {
   "cell_type": "markdown",
   "metadata": {},
   "source": [
    "## 2.1.1 Shapes und Co.\n",
    "\n",
    "Bei vielen Data Science Projekten werden Daten zunächst zugänglich gemacht, sodass sie als Numpy Arrays vorliegen. Das Verständnis von *Shapes* solcher Arrays ist eine wichtige Voraussetzung für eine produktive Arbeit mit diesen Datenstrukturen.\n",
    "\n",
    "Nehmen Sie die Folien zur heutigen Vorlesung zur Hand.\n",
    "\n",
    "**Ihre Aufgaben**\n",
    "\n",
    "(1) Betrachten Sie den untenstehenden Code. Beantworten Sie: Welchen [Shape](https://docs.scipy.org/doc/numpy/reference/generated/numpy.ndarray.shape.html) hat das Numpy Array `a`? "
   ]
  },
  {
   "cell_type": "code",
   "metadata": {
    "ExecuteTime": {
     "end_time": "2024-04-14T13:06:22.148019Z",
     "start_time": "2024-04-14T13:06:22.145572Z"
    }
   },
   "source": [
    "import numpy as np\n",
    "a = np.array([5, 10, 15, 20])"
   ],
   "outputs": [],
   "execution_count": 60
  },
  {
   "cell_type": "code",
   "source": [
    "print(f\"Die Shape von `a` ist {a.shape}\")"
   ],
   "metadata": {
    "collapsed": false,
    "ExecuteTime": {
     "end_time": "2024-04-14T13:06:22.202734Z",
     "start_time": "2024-04-14T13:06:22.200197Z"
    }
   },
   "outputs": [
    {
     "name": "stdout",
     "output_type": "stream",
     "text": [
      "Die Shape von `a` ist (4,)\n"
     ]
    }
   ],
   "execution_count": 61
  },
  {
   "cell_type": "markdown",
   "metadata": {},
   "source": [
    "(2) Lässt sich das Array `a` als (mathematischen) Vektor interpretieren? Wenn `a` ein Vektor ist, können Sie ihn [transponieren](https://docs.scipy.org/doc/numpy/reference/generated/numpy.ndarray.T.html)?"
   ]
  },
  {
   "cell_type": "markdown",
   "source": [
    "In der Mathematik ist ein Vektor ein Element eines Vektorraums und ein Vektorraum eine algebraische Struktur, in der die Vektorraumaxiome erfüllt sind.\n",
    "Das NumPy Array `a` lässt sich als Vektor in einem Vektorraum über den Körper $K$ interpretieren, wobei Addition `+` und Multiplikation `*` in $K$ sowie die Vektoraddition `+` und die Skalarmultiplikation `*` sich wie zu erwarten verhalten.\n",
    "\n",
    "Auch das euklidische Skalarprodukt mit `np.dot` und eine **elementweise** Vektor-Vektor-Multiplikation mit `*` sind definiert, jedoch lässt sich `a` nicht transponieren, da es sich um ein 1-dimensionales Array der Shape (4,0) handelt und die Unterscheidung zwischen Zeilen und Spalten bei nur einer Dimension nicht sinnvoll ist. Zur Transposition ist daher eine Umwandlung in ein (zumindest) 2-dimensionales Array der Shape (4,1) notwendig. Dies lässt sich z.B. mit `a.reshape((4,1))` bewerkstelligen, aber besser noch so:"
   ],
   "metadata": {
    "collapsed": false
   }
  },
  {
   "metadata": {
    "ExecuteTime": {
     "end_time": "2024-04-14T13:06:22.219352Z",
     "start_time": "2024-04-14T13:06:22.206097Z"
    }
   },
   "cell_type": "code",
   "source": [
    "a_vec = a[:, np.newaxis]\n",
    "print(f\"{a_vec.shape=} und {a_vec.T.shape=}\")"
   ],
   "outputs": [
    {
     "name": "stdout",
     "output_type": "stream",
     "text": [
      "a_vec.shape=(4, 1) und a_vec.T.shape=(1, 4)\n"
     ]
    }
   ],
   "execution_count": 62
  },
  {
   "cell_type": "markdown",
   "metadata": {},
   "source": [
    "(3) Betrachten Sie das unten stehende Array `b`. Erzeugen Sie aus `b` bitte zwei neue Arrays `c` und `d`: `c` soll ein Spaltenvektor sein, und `d` soll ein Zeilenvektor sein. Wie gehen Sie vor?"
   ]
  },
  {
   "cell_type": "code",
   "metadata": {
    "ExecuteTime": {
     "end_time": "2024-04-14T13:06:22.235054Z",
     "start_time": "2024-04-14T13:06:22.220765Z"
    }
   },
   "source": [
    "b = np.array([2, 4, 6, 8, 10])\n",
    "c, d = b[np.newaxis, :], b[:, np.newaxis]"
   ],
   "outputs": [],
   "execution_count": 63
  },
  {
   "cell_type": "markdown",
   "metadata": {},
   "source": [
    "Lässt sich `c` bzw. `d` transponieren? Warum?"
   ]
  },
  {
   "metadata": {},
   "cell_type": "markdown",
   "source": "Ja, weil es sich um 2-dimensionale Arrays handelt."
  },
  {
   "cell_type": "markdown",
   "metadata": {},
   "source": [
    "(4) Betrachten Sie die dritte Zeile des unten stehenden Codes: Hat sich durch die Zeile `k[0, 1] = 10` das Array `m` geändert? Falls ja, warum? Falls nein, warum hat es sich nicht geändert?"
   ]
  },
  {
   "cell_type": "code",
   "metadata": {
    "ExecuteTime": {
     "end_time": "2024-04-14T13:06:22.255297Z",
     "start_time": "2024-04-14T13:06:22.235905Z"
    }
   },
   "source": [
    "k = np.array([[1,2,3,4], [5,6,7,8], [9,10,11,12]])\n",
    "m = k[:2, 1:3]\n",
    "k[0, 1] = 10"
   ],
   "outputs": [],
   "execution_count": 64
  },
  {
   "metadata": {},
   "cell_type": "markdown",
   "source": "Ja, denn `m` ist eine Referenz (genannt _view_) auf einen Ausschnitt von `k` und das Element `k[0, 1]` ist in dem Ausschnitt unter der Referenz `m[0, 0]` enthalten. (basic indexing)"
  },
  {
   "cell_type": "markdown",
   "metadata": {},
   "source": [
    "(5) Betrachten Sie die dritte Zeile des unten stehenden Codes: Hat sich durch die Änderung des Arrays `p` der Inhalt von `q` geändert? Falls ja, warum? Falls nein, warum hat es sich nicht geändert?"
   ]
  },
  {
   "cell_type": "code",
   "metadata": {
    "ExecuteTime": {
     "end_time": "2024-04-14T13:06:22.270772Z",
     "start_time": "2024-04-14T13:06:22.256855Z"
    }
   },
   "source": [
    "p = np.array([[1,2,3,4], [5,6,7,8], [9,10,11,12]])\n",
    "q = p[[1, 2], 0]\n",
    "p[1, 0] = 25"
   ],
   "outputs": [],
   "execution_count": 65
  },
  {
   "metadata": {},
   "cell_type": "markdown",
   "source": "Nein, der Inhalt von `q` hat sich nicht geändert, da beim _advanced indexing_ immer eine Kopie der Daten erzeugt wird."
  },
  {
   "cell_type": "markdown",
   "metadata": {},
   "source": [
    "## 2.1.2 Broadcasting - Teil 1\n",
    "\n",
    "Nehmen Sie sich die Folien zur heutigen Vorlesung zur Hand. Unten sehen Sie eine Operation mit zwei Numpy Arrays `a` und `b`."
   ]
  },
  {
   "cell_type": "markdown",
   "metadata": {},
   "source": [
    "**Ihre Aufgaben**\n",
    "\n",
    "(1) Betrachten Sie die unten stehende Code-Zelle. Welchen Shape (Anzahl Zeilen, Anzahl Spalten) wird das Numpy Array `c` erhalten? \n",
    "\n",
    "  * Tragen Sie ihre Voraussage in die Variable `shape` ein. \n",
    "  * Begründen Sie Ihre Vorhersage mit den drei Broadcasting Regeln aus der Vorlesung.\n",
    "  * Berechnen Sie auf Papier das zu erwartende Ergebnis. Tragen Sie es als Numpy Array in die Variable `ergebnis` ein.\n",
    "  * Führen Sie dann jeweils die Zelle aus, um zu schauen, ob Sie richtig lagen."
   ]
  },
  {
   "cell_type": "code",
   "metadata": {
    "ExecuteTime": {
     "end_time": "2024-04-14T13:06:22.287535Z",
     "start_time": "2024-04-14T13:06:22.271903Z"
    }
   },
   "source": [
    "import numpy as np\n",
    "\n",
    "a = np.array([1, 2, 3])\n",
    "b = np.array([4, 5, 6])\n",
    "\n",
    "c = a + b\n",
    "\n",
    "# Ihre Vorhersagen\n",
    "shape = (3,) \n",
    "ergebnis = np.array([5, 7, 9])\n",
    "\n",
    "print('{}'.format('Shape korrekt.' if np.all(shape==c.shape) else 'Shape nicht korrekt.'))\n",
    "print('{}'.format('Ergebnis korrekt.' if np.array_equal(ergebnis, c) else 'Ergebnis nicht korrekt.'))"
   ],
   "outputs": [
    {
     "name": "stdout",
     "output_type": "stream",
     "text": [
      "Shape korrekt.\n",
      "Ergebnis korrekt.\n"
     ]
    }
   ],
   "execution_count": 66
  },
  {
   "cell_type": "markdown",
   "metadata": {},
   "source": "(2) Betrachten Sie die unten stehende Code-Zelle. Welchen Shape (Anzahl Zeilen, Anzahl Spalten) wird das Numpy Array `c` erhalten? "
  },
  {
   "cell_type": "code",
   "metadata": {
    "ExecuteTime": {
     "end_time": "2024-04-14T13:06:22.305170Z",
     "start_time": "2024-04-14T13:06:22.288517Z"
    }
   },
   "source": [
    "a = np.array([1, 2, 3])\n",
    "b = np.array([4, 5, 6])[:, np.newaxis]\n",
    "\n",
    "c = a + b\n",
    "\n",
    "shape = (3, 3) # Ihre Vorhersage\n",
    "ergebnis = np.array([\n",
    "    [5, 6, 7],\n",
    "    [6, 7, 8],\n",
    "    [7, 8, 9],\n",
    "])\n",
    "\n",
    "print('{}'.format('Shape Korrekt.' if np.all(shape==c.shape) else 'Shape nicht korrekt.'))\n",
    "print('{}'.format('Ergebnis korrekt.' if np.array_equal(ergebnis, c) else 'Ergebnis nicht korrekt.'))"
   ],
   "outputs": [
    {
     "name": "stdout",
     "output_type": "stream",
     "text": [
      "Shape Korrekt.\n",
      "Ergebnis korrekt.\n"
     ]
    }
   ],
   "execution_count": 67
  },
  {
   "cell_type": "markdown",
   "metadata": {},
   "source": "(3) Betrachten Sie die unten stehende Code-Zelle. Welchen Shape (Anzahl Zeilen, Anzahl Spalten) wird das Numpy Array `c` erhalten? "
  },
  {
   "cell_type": "code",
   "metadata": {
    "ExecuteTime": {
     "end_time": "2024-04-14T13:06:22.323251Z",
     "start_time": "2024-04-14T13:06:22.306140Z"
    }
   },
   "source": [
    "a = np.array([[1, 0, 0], [0, 0, 2]])\n",
    "b = np.ones(12).reshape((4, 1, 3))\n",
    "\n",
    "c = a * b\n",
    "\n",
    "shape = (4, 2, 3) # Ihre Vorhersage\n",
    "\n",
    "# Regel 1 (padding with ones on left side): a(2,3) -> a(1,2,3)\n",
    "a_1 = np.array([\n",
    "    [\n",
    "        [1, 0, 0], [0, 0, 2]\n",
    "    ]\n",
    "])\n",
    "print(f\"a {a.shape} -> {a_1.shape}\")\n",
    "\n",
    "# Regel 2 (stretching from 1 to match the other shape) a(1,2,3) -> a(4,2,3)\n",
    "a_2 = np.array([\n",
    "    [[1, 0, 0], [0, 0, 2]],\n",
    "    [[1, 0, 0], [0, 0, 2]],\n",
    "    [[1, 0, 0], [0, 0, 2]],\n",
    "    [[1, 0, 0], [0, 0, 2]]\n",
    "])\n",
    "print(f\"a {a_1.shape} -> {a_2.shape}\")\n",
    "\n",
    "# Regel 2 (stretching from 1 to match the other shape) b(4,1,3) -> b(4,2,3)\n",
    "b_1 = np.array([\n",
    "    [[1, 1, 1], [1, 1, 1]],\n",
    "    [[1, 1, 1], [1, 1, 1]],\n",
    "    [[1, 1, 1], [1, 1, 1]],\n",
    "    [[1, 1, 1], [1, 1, 1]],\n",
    "])\n",
    "print(f\"b {b.shape} -> {b_1.shape}\")\n",
    "\n",
    "# Elementweise Multiplikation.\n",
    "ergebnis = a_2\n",
    "\n",
    "print('{}'.format('Shape korrekt.' if np.all(shape==c.shape) else 'Shape nicht korrekt.'))\n",
    "print('{}'.format('Ergebnis korrekt.' if np.array_equal(ergebnis, c) else 'Ergebnis nicht korrekt.'))"
   ],
   "outputs": [
    {
     "name": "stdout",
     "output_type": "stream",
     "text": [
      "a (2, 3) -> (1, 2, 3)\n",
      "a (1, 2, 3) -> (4, 2, 3)\n",
      "b (4, 1, 3) -> (4, 2, 3)\n",
      "Shape korrekt.\n",
      "Ergebnis korrekt.\n"
     ]
    }
   ],
   "execution_count": 68
  },
  {
   "cell_type": "markdown",
   "metadata": {},
   "source": [
    "## 2.1.3 Broadcasting Teil 2\n",
    "\n",
    "Ein häufiger Vorverarbeitungsschritt, der Ihnen in verschiedenen Data Science Projekten begegnen wird, ist die Normierung von Daten. Häufig werden dabei Datensätze, z.B. Zeitreihen, auf Mittelwert $0$ und Standardabweichung $1$ normiert. Dieser Vorgang wird auch *z-scoring* (oder: *Standardisierung*) genannt:\n",
    "\n",
    "Sei $x_i$ der $i$-te Datenpunkt einer Zeitreihe. Dann ist der z-score dieses Datenpunkts definiert als\n",
    "\n",
    "$$\\tilde{x}_i = \\frac{x_i - \\bar{x}}{\\sigma},$$ \n",
    "\n",
    "wobei $\\bar{x}$ der Mittelwert sowie $\\sigma$ die Standardabweichung der Zeitreihe bezeichnen.\n",
    "\n",
    "Das in der unten stehenden Code-Zelle definierte Numpy Array `X` enthält 5 Zeitreihen (Spalten) mit je 30 Einträgen (Zeilen). \n",
    "\n",
    "* Nutzen Sie Broadcasting sowie [np.mean](https://docs.scipy.org/doc/numpy/reference/generated/numpy.mean.html) und [np.std](https://docs.scipy.org/doc/numpy/reference/generated/numpy.std.html), um die Zeitreihen auf Mittelwert 0 und Varianz 1 zu normieren. Die transformierten Zeitreihen sollen im Numpy Array `Y` gespeichert werden. Dabei schreiben Sie nur eine Zeile Code, um die Zeitreihen zu transformieren.\n",
    "* Beachten Sie das `axis` Argument bei `np.mean` und `np.std`."
   ]
  },
  {
   "cell_type": "code",
   "metadata": {
    "ExecuteTime": {
     "end_time": "2024-04-14T13:06:22.339218Z",
     "start_time": "2024-04-14T13:06:22.325080Z"
    }
   },
   "source": [
    "import numpy as np\n",
    "np.random.seed(0)\n",
    "\n",
    "X = np.random.random((30, 5))\n",
    "\n",
    "# Ihr Ergebnis:\n",
    "assert np.mean(X, axis=0).shape == (5,), \"5 Zeitreihen sollten 5 Mittelwerte haben\"\n",
    "Y = (X - np.mean(X, axis=0)) / np.std(X, axis=0)"
   ],
   "outputs": [],
   "execution_count": 69
  },
  {
   "cell_type": "markdown",
   "metadata": {},
   "source": [
    "## 2.1.4 Advanced Indexing\n",
    "\n",
    "Nehmen Sie sich die Folien der heutigen Vorlesung zur Hand. In diesem Übungsteil geht es darum, Sie mit *Advanced Indexing* in Numpy Arrays vertraut zu machen.\n",
    "\n",
    "**Ihre Aufgaben**\n",
    "\n",
    "(1) Betrachten Sie den unten stehenden Code-Zellen.\n",
    "* Tragen Sie in der Variable `vorhersage` ein, welches Array Sie in Variable `y` erwarten.\n",
    "* Prüfen Sie durch Ausführen des Codes, ob Ihre Vorhersage richtig war.\n",
    "* Beantworten Sie die Frage: Wodurch wird der Shape des Arrays `y` bestimmt?"
   ]
  },
  {
   "cell_type": "code",
   "metadata": {
    "ExecuteTime": {
     "end_time": "2024-04-14T13:06:22.355736Z",
     "start_time": "2024-04-14T13:06:22.340248Z"
    }
   },
   "source": [
    "import numpy as np \n",
    "\n",
    "x = np.array([[1, 2], [3, 4], [5, 6]]) \n",
    "y = x[[0,1,2], [0,1,0]] \n",
    "\n",
    "vorhersage = np.array([1, 4, 5]) # Ihre Vorhersage\n",
    "print('{}'.format('Ergebnis korrekt.' if np.array_equal(vorhersage, y) else 'Ergebnis nicht korrekt.'))"
   ],
   "outputs": [
    {
     "name": "stdout",
     "output_type": "stream",
     "text": [
      "Ergebnis korrekt.\n"
     ]
    }
   ],
   "execution_count": 70
  },
  {
   "cell_type": "markdown",
   "metadata": {},
   "source": "(2) Betrachten Sie den unten stehenden Code-Zellen."
  },
  {
   "cell_type": "code",
   "metadata": {
    "ExecuteTime": {
     "end_time": "2024-04-14T13:06:22.372596Z",
     "start_time": "2024-04-14T13:06:22.356661Z"
    }
   },
   "source": [
    "x = np.array([[0,  1,  2], [3,  4,  5], [6,  7,  8], [9, 10, 11]]) \n",
    "   \n",
    "rows = np.array([[0,0],[3,3]])\n",
    "cols = np.array([[0,2],[0,2]]) \n",
    "y = x[rows,cols] \n",
    "\n",
    "vorhersage = np.array([\n",
    "    [0, 2], [9, 11]\n",
    "]) # Ihre Vorhersage\n",
    "\n",
    "print('{}'.format('Ergebnis korrekt.' if np.array_equal(vorhersage, y) else 'Ergebnis nicht korrekt.'))"
   ],
   "outputs": [
    {
     "name": "stdout",
     "output_type": "stream",
     "text": [
      "Ergebnis korrekt.\n"
     ]
    }
   ],
   "execution_count": 71
  },
  {
   "cell_type": "markdown",
   "metadata": {},
   "source": "(3) Betrachten Sie den unten stehenden Code-Zellen."
  },
  {
   "cell_type": "code",
   "metadata": {
    "ExecuteTime": {
     "end_time": "2024-04-14T13:06:22.389548Z",
     "start_time": "2024-04-14T13:06:22.373573Z"
    }
   },
   "source": [
    "x = np.array([[0, 1, 2],[3, 4, 5],[6, 7, 8],[9, 10, 11]]) \n",
    "\n",
    "y = x[1:4,[1,2]] # Kombination von Slicing und Advanced Indexing\n",
    "\n",
    "vorhersage = np.array([\n",
    "    [4, 5],\n",
    "    [7, 8],\n",
    "    [10, 11]\n",
    "]) # Ihre Vorhersage\n",
    "\n",
    "print('{}'.format('Ergebnis korrekt.' if np.array_equal(vorhersage, y) else 'Ergebnis nicht korrekt.'))"
   ],
   "outputs": [
    {
     "name": "stdout",
     "output_type": "stream",
     "text": [
      "Ergebnis korrekt.\n"
     ]
    }
   ],
   "execution_count": 72
  }
 ],
 "metadata": {
  "kernelspec": {
   "display_name": "Python 3",
   "language": "python",
   "name": "python3"
  },
  "language_info": {
   "codemirror_mode": {
    "name": "ipython",
    "version": 3
   },
   "file_extension": ".py",
   "mimetype": "text/x-python",
   "name": "python",
   "nbconvert_exporter": "python",
   "pygments_lexer": "ipython3",
   "version": "3.7.7"
  },
  "learntools_metadata": {
   "lesson_index": 0,
   "type": "exercise"
  }
 },
 "nbformat": 4,
 "nbformat_minor": 1
}
