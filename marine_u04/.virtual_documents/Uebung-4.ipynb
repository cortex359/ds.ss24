








import numpy as np 
import pandas as pd
import matplotlib.pyplot as plt














df = pd.read_csv("life_expectancy_years.csv")
df.head() 
# Für Jahr 1800 bis 2018, jedes Jahr





df.columns


mean = df.set_index('country').mean()
mean.plot(title="worldwild life expectancy per year", xlabel="Jahr", ylabel="Life Expectancy")

















germany = df[df['country']=='Germany']
germany = df.set_index('country').loc['Germany']
mean = df.set_index('country').mean()



#fig, ax = plt.subplots()
# how to put the colors in there ? 
ax.legend()
germany.plot()
mean.plot(title="worldwild life expectancy per year", xlabel="Jahr", ylabel="Life Expectancy")






c = pd.read_csv("children_per_woman_total_fertility.csv")





c.head()
mean = c.set_index('country').mean()
mean.plot(title = 'children per woman year by year', xlabel="children per woman", ylabel="year")











c.head()
d = c.set_index('country')
d_max = d.diff(axis=1).max()























































