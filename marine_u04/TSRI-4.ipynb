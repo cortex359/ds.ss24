{
 "cells": [
  {
   "cell_type": "markdown",
   "metadata": {},
   "source": [
    "# Übung 4\n",
    "\n",
    "**Gruppenname:**\n",
    "\n",
    "TSRI\n",
    "\n",
    "Gehen Sie wie folgt vor:\n",
    "\n",
    "1. Bitte benennen Sie jetzt dieses Jupyter Notebook um (z.B. über `File -> Rename`):\n",
    "\n",
    "   Namensschema: `Gruppenname-X`. Ersetzen Sie \"X\" mit der oben angegebenen Nummer der Übung.\n",
    "\n",
    "   - Beispiel 1: Team REZA bearbeitet Übung 2. Das Notebook heißt: REZA-2.\n",
    "   - Beispiel 2: Sie sind keinem Team zugeordnet (nicht empfehlenswert) und bearbeiten Übung 2: Ihr Notebook heißt: Nachname-2.\n",
    "\n",
    "\n",
    "2. Tragen Sie Ihren Gruppennamen auch ganz oben bei \"Name Ihrer Gruppe\" ein.\n",
    "\n",
    "3. Bearbeiten Sie dann dieses Notebook. Vergessen Sie dabei nicht, das Jupyter Notebook regelmäßig zu speichern (z.B. über `Strg + S` oder über `File -> Save and Checkpoint`)."
   ]
  },
  {
   "cell_type": "markdown",
   "metadata": {},
   "source": [
    "### In dieser Übung ...\n",
    "\n",
    "werden Sie verschiedene Datensätze explorieren und dabei Ihre EDA-Fertigkeiten trainieren."
   ]
  },
  {
   "cell_type": "markdown",
   "metadata": {},
   "source": [
    "### 4.1 Visualisierung Teil 1 (Lebenserwartung)\n",
    "\n",
    "In dieser Übung geht es darum, dass Sie Ihre Pandas- und Visualisierungs-Fähigkeiten weiter verfeinern. Wir werden die Entwicklung der Lebenserwartung der Weltbevölkerung in den letzten 200 Jahren untersuchen.\n",
    "\n",
    "**Ihre Daten**\n",
    "\n",
    "Die Daten stammen aus unterschiedlichen Datenquellen (unter anderem den United Nations, dem Institute for Health Metrics and Evaluation, der Human Mortality Database des Max Plank Instituts für demografische Forschung und der University of California Berkeley), die von der Gapminder Stiftung zusammengefasst wurden. Sie finden die Daten hier:\n",
    "\n",
    "* Sie finden die Daten, die Sie für diese Übung benötigen, [hier](https://data.bialonski.de/ds/life_expectancy_years.csv).\n",
    "\n",
    "**Ihre Aufgaben**\n",
    "\n",
    "(1) Welche Erwartungshaltung haben Sie - ohne dass Sie vorher recherchieren: Was war die durchschnittliche Lebenserwartung eines Menschen zu Beginn des 19. Jahrhunderts (also 18XX) und im Jahr 2018? (1-3 Sätze)"
   ]
  },
  {
   "cell_type": "markdown",
   "metadata": {},
   "source": [
    "Wir erwarten, dass die durchschnittliche Lebenserwartung im 19. Jahrhundert etwa 40 Jahre betrug, während sie im Jahr 2018 auf etwa 70 Jahre gestiegen ist."
   ]
  },
  {
   "cell_type": "markdown",
   "metadata": {},
   "source": [
    "(2) Importieren und untersuchen Sie den hinterlegten Datensatz: Für welche Zeitspanne sind Daten hinterlegt?"
   ]
  },
  {
   "cell_type": "code",
   "execution_count": 98,
   "metadata": {},
   "outputs": [
    {
     "name": "stdout",
     "output_type": "stream",
     "text": [
      "Zeitspanne: vom Jahr 1800 bis zum Jahr 2018\n"
     ]
    },
    {
     "data": {
      "text/html": [
       "<div>\n",
       "<style scoped>\n",
       "    .dataframe tbody tr th:only-of-type {\n",
       "        vertical-align: middle;\n",
       "    }\n",
       "\n",
       "    .dataframe tbody tr th {\n",
       "        vertical-align: top;\n",
       "    }\n",
       "\n",
       "    .dataframe thead th {\n",
       "        text-align: right;\n",
       "    }\n",
       "</style>\n",
       "<table border=\"1\" class=\"dataframe\">\n",
       "  <thead>\n",
       "    <tr style=\"text-align: right;\">\n",
       "      <th></th>\n",
       "      <th>1800</th>\n",
       "      <th>1801</th>\n",
       "      <th>1802</th>\n",
       "      <th>1803</th>\n",
       "      <th>1804</th>\n",
       "      <th>1805</th>\n",
       "      <th>1806</th>\n",
       "      <th>1807</th>\n",
       "      <th>1808</th>\n",
       "      <th>1809</th>\n",
       "      <th>...</th>\n",
       "      <th>2009</th>\n",
       "      <th>2010</th>\n",
       "      <th>2011</th>\n",
       "      <th>2012</th>\n",
       "      <th>2013</th>\n",
       "      <th>2014</th>\n",
       "      <th>2015</th>\n",
       "      <th>2016</th>\n",
       "      <th>2017</th>\n",
       "      <th>2018</th>\n",
       "    </tr>\n",
       "    <tr>\n",
       "      <th>country</th>\n",
       "      <th></th>\n",
       "      <th></th>\n",
       "      <th></th>\n",
       "      <th></th>\n",
       "      <th></th>\n",
       "      <th></th>\n",
       "      <th></th>\n",
       "      <th></th>\n",
       "      <th></th>\n",
       "      <th></th>\n",
       "      <th></th>\n",
       "      <th></th>\n",
       "      <th></th>\n",
       "      <th></th>\n",
       "      <th></th>\n",
       "      <th></th>\n",
       "      <th></th>\n",
       "      <th></th>\n",
       "      <th></th>\n",
       "      <th></th>\n",
       "      <th></th>\n",
       "    </tr>\n",
       "  </thead>\n",
       "  <tbody>\n",
       "    <tr>\n",
       "      <th>Afghanistan</th>\n",
       "      <td>28.2</td>\n",
       "      <td>28.2</td>\n",
       "      <td>28.2</td>\n",
       "      <td>28.2</td>\n",
       "      <td>28.2</td>\n",
       "      <td>28.2</td>\n",
       "      <td>28.1</td>\n",
       "      <td>28.1</td>\n",
       "      <td>28.1</td>\n",
       "      <td>28.1</td>\n",
       "      <td>...</td>\n",
       "      <td>55.7</td>\n",
       "      <td>56.2</td>\n",
       "      <td>56.7</td>\n",
       "      <td>57.2</td>\n",
       "      <td>57.7</td>\n",
       "      <td>57.8</td>\n",
       "      <td>57.9</td>\n",
       "      <td>58.0</td>\n",
       "      <td>58.4</td>\n",
       "      <td>58.7</td>\n",
       "    </tr>\n",
       "    <tr>\n",
       "      <th>Albania</th>\n",
       "      <td>35.4</td>\n",
       "      <td>35.4</td>\n",
       "      <td>35.4</td>\n",
       "      <td>35.4</td>\n",
       "      <td>35.4</td>\n",
       "      <td>35.4</td>\n",
       "      <td>35.4</td>\n",
       "      <td>35.4</td>\n",
       "      <td>35.4</td>\n",
       "      <td>35.4</td>\n",
       "      <td>...</td>\n",
       "      <td>75.9</td>\n",
       "      <td>76.3</td>\n",
       "      <td>76.7</td>\n",
       "      <td>77.0</td>\n",
       "      <td>77.2</td>\n",
       "      <td>77.4</td>\n",
       "      <td>77.6</td>\n",
       "      <td>77.7</td>\n",
       "      <td>77.9</td>\n",
       "      <td>78.0</td>\n",
       "    </tr>\n",
       "    <tr>\n",
       "      <th>Algeria</th>\n",
       "      <td>28.8</td>\n",
       "      <td>28.8</td>\n",
       "      <td>28.8</td>\n",
       "      <td>28.8</td>\n",
       "      <td>28.8</td>\n",
       "      <td>28.8</td>\n",
       "      <td>28.8</td>\n",
       "      <td>28.8</td>\n",
       "      <td>28.8</td>\n",
       "      <td>28.8</td>\n",
       "      <td>...</td>\n",
       "      <td>76.3</td>\n",
       "      <td>76.5</td>\n",
       "      <td>76.7</td>\n",
       "      <td>76.8</td>\n",
       "      <td>77.0</td>\n",
       "      <td>77.1</td>\n",
       "      <td>77.3</td>\n",
       "      <td>77.4</td>\n",
       "      <td>77.6</td>\n",
       "      <td>77.9</td>\n",
       "    </tr>\n",
       "  </tbody>\n",
       "</table>\n",
       "<p>3 rows × 219 columns</p>\n",
       "</div>"
      ],
      "text/plain": [
       "             1800  1801  1802  1803  1804  1805  1806  1807  1808  1809  ...  \\\n",
       "country                                                                  ...   \n",
       "Afghanistan  28.2  28.2  28.2  28.2  28.2  28.2  28.1  28.1  28.1  28.1  ...   \n",
       "Albania      35.4  35.4  35.4  35.4  35.4  35.4  35.4  35.4  35.4  35.4  ...   \n",
       "Algeria      28.8  28.8  28.8  28.8  28.8  28.8  28.8  28.8  28.8  28.8  ...   \n",
       "\n",
       "             2009  2010  2011  2012  2013  2014  2015  2016  2017  2018  \n",
       "country                                                                  \n",
       "Afghanistan  55.7  56.2  56.7  57.2  57.7  57.8  57.9  58.0  58.4  58.7  \n",
       "Albania      75.9  76.3  76.7  77.0  77.2  77.4  77.6  77.7  77.9  78.0  \n",
       "Algeria      76.3  76.5  76.7  76.8  77.0  77.1  77.3  77.4  77.6  77.9  \n",
       "\n",
       "[3 rows x 219 columns]"
      ]
     },
     "execution_count": 98,
     "metadata": {},
     "output_type": "execute_result"
    }
   ],
   "source": [
    "import numpy as np \n",
    "import pandas as pd\n",
    "import matplotlib.pyplot as plt\n",
    "\n",
    "# Reading the data and setting the first column as index\n",
    "life_expectancy = pd.read_csv(\"life_expectancy_years.csv\", index_col=0)\n",
    "\n",
    "print(\"Zeitspanne: vom Jahr\", life_expectancy.columns.min(), \"bis zum Jahr\", life_expectancy.columns.max())\n",
    "life_expectancy.head(3)"
   ]
  },
  {
   "cell_type": "markdown",
   "metadata": {},
   "source": [
    "(3) Erstellen Sie eine Visualisierung der weltweiten Lebenserwartung (y-Achse) über die Jahre (x-Achse) hinweg. Halten Sie sich an die Regeln guter Visualisierung. Achten Sie auf Achsenbeschriftungen.\n",
    "\n",
    "* Hinweis: Zur Bearbeitung dieser Aufgabe werden Sie im Netz recherchieren müssen."
   ]
  },
  {
   "cell_type": "code",
   "execution_count": 99,
   "metadata": {},
   "outputs": [
    {
     "data": {
      "text/plain": [
       "<Axes: title={'center': 'worldwild life expectancy per year'}, xlabel='Year', ylabel='Life Expectancy'>"
      ]
     },
     "execution_count": 99,
     "metadata": {},
     "output_type": "execute_result"
    },
    {
     "data": {
      "image/png": "[encoded data removed]",
      "text/plain": [
       "<Figure size 640x480 with 1 Axes>"
      ]
     },
     "metadata": {},
     "output_type": "display_data"
    }
   ],
   "source": [
    "mean_worldwilde_life_expectancy = life_expectancy.mean()\n",
    "mean_worldwilde_life_expectancy.plot(title=\"worldwild life expectancy per year\", xlabel=\"Year\", ylabel=\"Life Expectancy\")"
   ]
  },
  {
   "cell_type": "markdown",
   "metadata": {},
   "source": [
    "(4) Vergleichen Sie Ihre Abbildung mit Ihrer Erwartungshaltung aus Schritt (1). Wurden Sie überrascht? Falls ja, inwiefern? (1-3 Sätze)"
   ]
  },
  {
   "cell_type": "markdown",
   "metadata": {},
   "source": [
    "Die Lebenserwartung von 70 Jahren weltweit im Jahr 2018 entsprach genau unserer Erwartung. Allerdings waren wir überrascht zu erfahren, dass sie zu Beginn des 19. Jahrhunderts so niedrig war, dass sie sich auf 30 Jahre annäherte. Wir hatten erwartet, dass die durchschnittliche Lebenserwartung im 19. Jahrhundert etwa 40 Jahre betrug, und das konservativ geschätzt."
   ]
  },
  {
   "cell_type": "markdown",
   "metadata": {},
   "source": [
    "(5) Führen Sie eine kurze Recherche durch: Welche Ereignisse könnten die Einbrüche in der weltweiten Lebenserwartung, die Sie zu bestimmten Zeiten beobachten, erklären?"
   ]
  },
  {
   "cell_type": "markdown",
   "metadata": {},
   "source": [
    "Wir beobachten zwei Einbrüche in der weltweiten Lebenserwartung in der Zeitspanne von 1800 bis 2018: Einen ungefähr im Jahr 1918 und einen im Jahr 1948. Die entsprechenden Ereignisse sind:\n",
    "- 1918: Die Spanische Grippe, die laut den Archiven der Weltgesundheitsorganisation (WHO) schätzungsweise 20 bis 40 Millionen Menschen das Leben kostete (Quelle: [Weltgesundheitsorganisation (WHO)](https://www.who.int/teams/health-product-policy-and-standards/standards-and-specifications/vaccines-quality/influenza)).\n",
    "- 1914-1918: Der Erste Weltkrieg, der mehr als 16,5 Millionen Menschen das Leben kostete (Quelle: [History.com](https://www.history.com/news/how-many-people-died-in-world-war-i))\n",
    "- 1939-1945: Der Zweite Weltkrieg, der laut Britannica zwischen 35 und 60 Millionen Menschen das Leben kostete (Quelle: [Britannica](https://www.britannica.com/question/How-many-people-died-during-World-War-II)).\n",
    "- 1943: Die Bengalische Hungersnot, die drei Millionen Todesopfer forderte. (Quelle: [NCBI](https://www.ncbi.nlm.nih.gov/pmc/articles/PMC9735018/#:~:text=The%20Bengal%20famine%20of%201943%20was%20one%20of%20the%20worst,was%20under%20the%20British%20Raj) )\n"
   ]
  },
  {
   "cell_type": "markdown",
   "metadata": {},
   "source": [
    "(6) \\[Optional\\]: Vergleichen Sie die weltweite Lebenserwartung mit der von Deutschland: Erstellen Sie eine Visualisierung, die beide Graphen zeigt, und interpretieren Sie diese. (1-3 Sätze)."
   ]
  },
  {
   "cell_type": "code",
   "execution_count": 100,
   "metadata": {},
   "outputs": [
    {
     "data": {
      "image/png": "[encoded data removed]",
      "text/plain": [
       "<Figure size 640x480 with 1 Axes>"
      ]
     },
     "metadata": {},
     "output_type": "display_data"
    }
   ],
   "source": [
    "# Vorbereitung: Als Index (Zeilennamen) steht der Name des Landes, deshalb können wir direkt auf Deutschland zugreifen\n",
    "germany = life_expectancy.loc['Germany']\n",
    "\n",
    "# Plotting: mean_worldwilde_life_expectancy haben wir schon berechnet, also können wir es direkt plotten\n",
    "mean_worldwilde_life_expectancy.plot(label=\"World\", title=\"Worldwide Life Expectancy Over Time\", xlabel=\"Year\", ylabel=\"Life Expectancy\")\n",
    "germany.plot(label=\"Germany\")\n",
    "\n",
    "# Add legend (dank der labels, zum Beispiel \"World\" und \"Germany\")\n",
    "plt.legend()\n",
    "\n",
    "# Show the plot\n",
    "plt.show()\n"
   ]
  },
  {
   "cell_type": "markdown",
   "metadata": {},
   "source": [
    "### 4.2 Visualisierung Teil 2 (Geburtenraten)\n",
    "\n",
    "Dies ist eine Fortsetzung von vorherigen Übungsaufgaben. Wir kommen noch einmal auf Daten der Gapminder Stiftung zurück, um Geburtenraten weltweit zu untersuchen.\n",
    "\n",
    "**Ihre Daten**\n",
    "\n",
    "* Sie finden die Daten, die Sie für diese Übung benötigen, [hier](https://data.bialonski.de/ds/children_per_woman_total_fertility.csv).\n",
    "\n",
    "**Randbemerkung**\n",
    "\n",
    "Im Rahmen dieser Aufgabe wollen wir unter dem Begriff \"Geburtenrate\" die Gesamtfertilitätsrate (*total fertility rate*) verstehen, wie Sie sie direkt im Datensatz angegeben finden. Dies ist die durchschnittliche Anzahl von Kindern, die eine Frau im Laufe ihres Lebens bekommt. Die Forschung [unterscheidet](https://web.archive.org/web/20220502150023/https://www.gbe-bund.de/gbe/abrechnung.prc_abr_test_logon?p_uid=gast&p_aid=0&p_knoten=FID&p_sprache=D&p_suchstring=12693) allerdings zwischen verschiedenen Fertilitätsindikatoren (z.B. zwischen sogenannten Geburtenziffern, Fertilitätsraten und Reproduktionsraten). Falls Sie also einmal mit einem Bevölkerungswissenschaftler sprechen sollten: Sie untersuchen hier im Rahmen dieser Aufgabe die Gesamtfertilitätsrate.\n",
    "\n",
    "**Ihre Aufgaben**\n",
    "\n",
    "(1) Importieren Sie den oben aufgeführten Datensatz."
   ]
  },
  {
   "cell_type": "code",
   "execution_count": 101,
   "metadata": {},
   "outputs": [
    {
     "data": {
      "text/html": [
       "<div>\n",
       "<style scoped>\n",
       "    .dataframe tbody tr th:only-of-type {\n",
       "        vertical-align: middle;\n",
       "    }\n",
       "\n",
       "    .dataframe tbody tr th {\n",
       "        vertical-align: top;\n",
       "    }\n",
       "\n",
       "    .dataframe thead th {\n",
       "        text-align: right;\n",
       "    }\n",
       "</style>\n",
       "<table border=\"1\" class=\"dataframe\">\n",
       "  <thead>\n",
       "    <tr style=\"text-align: right;\">\n",
       "      <th></th>\n",
       "      <th>1800</th>\n",
       "      <th>1801</th>\n",
       "      <th>1802</th>\n",
       "      <th>1803</th>\n",
       "      <th>1804</th>\n",
       "      <th>1805</th>\n",
       "      <th>1806</th>\n",
       "      <th>1807</th>\n",
       "      <th>1808</th>\n",
       "      <th>1809</th>\n",
       "      <th>...</th>\n",
       "      <th>2009</th>\n",
       "      <th>2010</th>\n",
       "      <th>2011</th>\n",
       "      <th>2012</th>\n",
       "      <th>2013</th>\n",
       "      <th>2014</th>\n",
       "      <th>2015</th>\n",
       "      <th>2016</th>\n",
       "      <th>2017</th>\n",
       "      <th>2018</th>\n",
       "    </tr>\n",
       "    <tr>\n",
       "      <th>country</th>\n",
       "      <th></th>\n",
       "      <th></th>\n",
       "      <th></th>\n",
       "      <th></th>\n",
       "      <th></th>\n",
       "      <th></th>\n",
       "      <th></th>\n",
       "      <th></th>\n",
       "      <th></th>\n",
       "      <th></th>\n",
       "      <th></th>\n",
       "      <th></th>\n",
       "      <th></th>\n",
       "      <th></th>\n",
       "      <th></th>\n",
       "      <th></th>\n",
       "      <th></th>\n",
       "      <th></th>\n",
       "      <th></th>\n",
       "      <th></th>\n",
       "      <th></th>\n",
       "    </tr>\n",
       "  </thead>\n",
       "  <tbody>\n",
       "    <tr>\n",
       "      <th>Afghanistan</th>\n",
       "      <td>7.00</td>\n",
       "      <td>7.00</td>\n",
       "      <td>7.00</td>\n",
       "      <td>7.00</td>\n",
       "      <td>7.00</td>\n",
       "      <td>7.00</td>\n",
       "      <td>7.00</td>\n",
       "      <td>7.00</td>\n",
       "      <td>7.00</td>\n",
       "      <td>7.00</td>\n",
       "      <td>...</td>\n",
       "      <td>6.04</td>\n",
       "      <td>5.82</td>\n",
       "      <td>5.60</td>\n",
       "      <td>5.38</td>\n",
       "      <td>5.17</td>\n",
       "      <td>4.98</td>\n",
       "      <td>4.80</td>\n",
       "      <td>4.64</td>\n",
       "      <td>4.48</td>\n",
       "      <td>4.33</td>\n",
       "    </tr>\n",
       "    <tr>\n",
       "      <th>Albania</th>\n",
       "      <td>4.60</td>\n",
       "      <td>4.60</td>\n",
       "      <td>4.60</td>\n",
       "      <td>4.60</td>\n",
       "      <td>4.60</td>\n",
       "      <td>4.60</td>\n",
       "      <td>4.60</td>\n",
       "      <td>4.60</td>\n",
       "      <td>4.60</td>\n",
       "      <td>4.60</td>\n",
       "      <td>...</td>\n",
       "      <td>1.65</td>\n",
       "      <td>1.65</td>\n",
       "      <td>1.67</td>\n",
       "      <td>1.69</td>\n",
       "      <td>1.70</td>\n",
       "      <td>1.71</td>\n",
       "      <td>1.71</td>\n",
       "      <td>1.71</td>\n",
       "      <td>1.71</td>\n",
       "      <td>1.71</td>\n",
       "    </tr>\n",
       "    <tr>\n",
       "      <th>Algeria</th>\n",
       "      <td>6.99</td>\n",
       "      <td>6.99</td>\n",
       "      <td>6.99</td>\n",
       "      <td>6.99</td>\n",
       "      <td>6.99</td>\n",
       "      <td>6.99</td>\n",
       "      <td>6.99</td>\n",
       "      <td>6.99</td>\n",
       "      <td>6.99</td>\n",
       "      <td>6.99</td>\n",
       "      <td>...</td>\n",
       "      <td>2.83</td>\n",
       "      <td>2.89</td>\n",
       "      <td>2.93</td>\n",
       "      <td>2.94</td>\n",
       "      <td>2.92</td>\n",
       "      <td>2.89</td>\n",
       "      <td>2.84</td>\n",
       "      <td>2.78</td>\n",
       "      <td>2.71</td>\n",
       "      <td>2.64</td>\n",
       "    </tr>\n",
       "    <tr>\n",
       "      <th>Angola</th>\n",
       "      <td>6.93</td>\n",
       "      <td>6.93</td>\n",
       "      <td>6.93</td>\n",
       "      <td>6.93</td>\n",
       "      <td>6.93</td>\n",
       "      <td>6.93</td>\n",
       "      <td>6.93</td>\n",
       "      <td>6.94</td>\n",
       "      <td>6.94</td>\n",
       "      <td>6.94</td>\n",
       "      <td>...</td>\n",
       "      <td>6.24</td>\n",
       "      <td>6.16</td>\n",
       "      <td>6.08</td>\n",
       "      <td>6.00</td>\n",
       "      <td>5.92</td>\n",
       "      <td>5.84</td>\n",
       "      <td>5.77</td>\n",
       "      <td>5.69</td>\n",
       "      <td>5.62</td>\n",
       "      <td>5.55</td>\n",
       "    </tr>\n",
       "    <tr>\n",
       "      <th>Antigua and Barbuda</th>\n",
       "      <td>5.00</td>\n",
       "      <td>5.00</td>\n",
       "      <td>4.99</td>\n",
       "      <td>4.99</td>\n",
       "      <td>4.99</td>\n",
       "      <td>4.98</td>\n",
       "      <td>4.98</td>\n",
       "      <td>4.97</td>\n",
       "      <td>4.97</td>\n",
       "      <td>4.97</td>\n",
       "      <td>...</td>\n",
       "      <td>2.15</td>\n",
       "      <td>2.13</td>\n",
       "      <td>2.12</td>\n",
       "      <td>2.10</td>\n",
       "      <td>2.09</td>\n",
       "      <td>2.08</td>\n",
       "      <td>2.06</td>\n",
       "      <td>2.05</td>\n",
       "      <td>2.04</td>\n",
       "      <td>2.03</td>\n",
       "    </tr>\n",
       "  </tbody>\n",
       "</table>\n",
       "<p>5 rows × 219 columns</p>\n",
       "</div>"
      ],
      "text/plain": [
       "                     1800  1801  1802  1803  1804  1805  1806  1807  1808  \\\n",
       "country                                                                     \n",
       "Afghanistan          7.00  7.00  7.00  7.00  7.00  7.00  7.00  7.00  7.00   \n",
       "Albania              4.60  4.60  4.60  4.60  4.60  4.60  4.60  4.60  4.60   \n",
       "Algeria              6.99  6.99  6.99  6.99  6.99  6.99  6.99  6.99  6.99   \n",
       "Angola               6.93  6.93  6.93  6.93  6.93  6.93  6.93  6.94  6.94   \n",
       "Antigua and Barbuda  5.00  5.00  4.99  4.99  4.99  4.98  4.98  4.97  4.97   \n",
       "\n",
       "                     1809  ...  2009  2010  2011  2012  2013  2014  2015  \\\n",
       "country                    ...                                             \n",
       "Afghanistan          7.00  ...  6.04  5.82  5.60  5.38  5.17  4.98  4.80   \n",
       "Albania              4.60  ...  1.65  1.65  1.67  1.69  1.70  1.71  1.71   \n",
       "Algeria              6.99  ...  2.83  2.89  2.93  2.94  2.92  2.89  2.84   \n",
       "Angola               6.94  ...  6.24  6.16  6.08  6.00  5.92  5.84  5.77   \n",
       "Antigua and Barbuda  4.97  ...  2.15  2.13  2.12  2.10  2.09  2.08  2.06   \n",
       "\n",
       "                     2016  2017  2018  \n",
       "country                                \n",
       "Afghanistan          4.64  4.48  4.33  \n",
       "Albania              1.71  1.71  1.71  \n",
       "Algeria              2.78  2.71  2.64  \n",
       "Angola               5.69  5.62  5.55  \n",
       "Antigua and Barbuda  2.05  2.04  2.03  \n",
       "\n",
       "[5 rows x 219 columns]"
      ]
     },
     "execution_count": 101,
     "metadata": {},
     "output_type": "execute_result"
    }
   ],
   "source": [
    "# Reading the data and setting the first column as index\n",
    "children_per_woman = pd.read_csv(\"children_per_woman_total_fertility.csv\",  index_col=0)\n",
    "children_per_woman.head()"
   ]
  },
  {
   "cell_type": "markdown",
   "metadata": {},
   "source": [
    "(2) Visualisieren Sie die weltweite Geburtenrate (y-Achse) als Funktion der Zeit (Jahre, x-Achse). Achten Sie auf die Regeln guter Visualisierung, wie Sie sie in der Vorlesung kennengelernt haben. Beschriften Sie alle Achsen."
   ]
  },
  {
   "cell_type": "code",
   "execution_count": 102,
   "metadata": {},
   "outputs": [
    {
     "data": {
      "text/plain": [
       "<Axes: title={'center': 'Worldwide Average Number of Children per Woman Over Time'}, xlabel='Year', ylabel='Average Number of Children'>"
      ]
     },
     "execution_count": 102,
     "metadata": {},
     "output_type": "execute_result"
    },
    {
     "data": {
      "image/png": "[encoded data removed]",
      "text/plain": [
       "<Figure size 640x480 with 1 Axes>"
      ]
     },
     "metadata": {},
     "output_type": "display_data"
    }
   ],
   "source": [
    "average_number_of_children_per_woman_per_year = children_per_woman.mean()\n",
    "average_number_of_children_per_woman_per_year.plot(title = 'Worldwide Average Number of Children per Woman Over Time', xlabel=\"Year\", ylabel=\"Average Number of Children\")"
   ]
  },
  {
   "cell_type": "markdown",
   "metadata": {},
   "source": [
    "(3) Ab wann geht die Geburtenrate weltweit besonders stark zurück? (ungefähre Jahreszahl). Welche Hypothesen haben Sie, warum dieser Rückgang zu beobachten ist?"
   ]
  },
  {
   "cell_type": "markdown",
   "metadata": {},
   "source": [
    "Ab ungefähr 1960 ging die Geburtenrate weltweit besonders stark zurück:\n",
    "- **Hypothesen zur Erklärung des Rückgangs in der Geburtenrate:** \n",
    "  - Weil die Länder reicher wurden, und in reichen Ländern werden weniger Kinder z.B. für die Landwirtschaft benötigt.\n",
    "  - Die Kindermortalität ist gesunken, daher ist es nicht mehr nötig, mehr Kinder zu bekommen.\n",
    "  - Bessere medizinische Versorgung.\n",
    "  - Bessere Familienplanung.\n",
    "  - Emanzipation der Frauen.\n",
    "  - Angst vor dem Kalten Krieg.\n"
   ]
  },
  {
   "cell_type": "markdown",
   "metadata": {},
   "source": [
    "(4) Ermitteln Sie für jedes Jahr das Land, in dem die Geburtenrate am meisten zurückging. (Ein *Pandas Series* Objekt).\n",
    "\n",
    " * Zur Bearbeitung dieser Aufgabe werden Sie etwas nachdenken müssen. Wenn Sie partout nicht weiterkommen, lesen Sie diesen ROT13-kodierten Hinweis: Qre Uvajrvf ynhgrg: uggcf://cnaqnf.clqngn.bet/cnaqnf-qbpf/fgnoyr/ersrerapr/ncv/cnaqnf.QngnSenzr.qvss.ugzy"
   ]
  },
  {
   "cell_type": "code",
   "execution_count": 127,
   "metadata": {},
   "outputs": [
    {
     "name": "stdout",
     "output_type": "stream",
     "text": [
      "1800     NaN\n",
      "1801   -0.37\n",
      "1802   -0.16\n",
      "1803   -0.45\n",
      "1804   -0.26\n",
      "        ... \n",
      "2014   -0.19\n",
      "2015   -0.18\n",
      "2016   -0.16\n",
      "2017   -0.16\n",
      "2018   -0.15\n",
      "Length: 219, dtype: float64\n"
     ]
    }
   ],
   "source": [
    "# Computes the change in birth rates from one year to the next for each country by traversing along the column years (axis='columns', can also use axis=1)\n",
    "# the min difference (negative change) is the biggest drop in birth rates across all countries rows \n",
    "biggest_birthrate_drop = children_per_woman.diff(axis='columns').min(axis='index')  \n",
    "#children_per_woman.groupby(by='columns')\n",
    "print(biggest_birthrate_drop)\n",
    "\n",
    "# TODO I DONT KNOW HOW TO DO THIS"
   ]
  },
  {
   "cell_type": "markdown",
   "metadata": {},
   "source": [
    "(5) Ermitteln Sie mit Ihrem Ergebnis aus Schritt (4) das Land, dessen Geburtenrate Ende der 80er und Anfang der 90er Jahre am stärksten zurückging. Um welches Land handelt es sich?"
   ]
  },
  {
   "cell_type": "code",
   "execution_count": null,
   "metadata": {},
   "outputs": [],
   "source": []
  },
  {
   "cell_type": "markdown",
   "metadata": {},
   "source": [
    "(6) Visualisieren Sie den Zeitverlauf der Geburtenraten für das Land, welches Sie in Schritt (5) identifiziert haben. Achten Sie auf die Regeln guter Visualisierung, die Sie in der Vorlesung kennengelernt haben. Was Sie beobachten, zählt zu den schnellsten Geburtenrückgängen der Weltgeschichte."
   ]
  },
  {
   "cell_type": "code",
   "execution_count": null,
   "metadata": {},
   "outputs": [],
   "source": []
  },
  {
   "cell_type": "markdown",
   "metadata": {},
   "source": [
    "(7) Fügen Sie der Abbildung aus Schritt (6) noch die Geburtenrate der USA als zusätzlichen Graphen hinzu. Beschreiben Sie grob den qualitativen Unterschied, den Sie feststellen (1-3 Sätze)."
   ]
  },
  {
   "cell_type": "code",
   "execution_count": null,
   "metadata": {},
   "outputs": [],
   "source": []
  },
  {
   "cell_type": "markdown",
   "metadata": {},
   "source": [
    "** Schlussbemerkung** Wenn Sie mit Ihrer Aufgabe bis hierhin gekommen sind, dann lesen Sie gerne die ROT-13 kodierte Schlussbemerkung. Qre Vena ireorffregr Raqr qrf 20. Wnueuhaqregf qvr zrqvmvavfpur Irefbethat haq qvr Ovyqhat qre Oüetre qrhgyvpu. Rvar boyvtngbevfpur Frkhnynhsxyäehat, rvasnpure Mhtnat mh Ireuüghatfzvggrya (hagre naqrerz mhe Cvyyr) fbjvr rvar vz Vena orsvaqyvpur Xbaqbzsnoevx (qvr va qra 90re Wnuera teößgr Xbaqbzsnoevx jrygjrvg) jreqra mh qra irefpuvrqrara Snxgbera trmäuyg, qvr qra Trohegraeüpxtnat rexyäera."
   ]
  },
  {
   "cell_type": "markdown",
   "metadata": {},
   "source": [
    "### 4.3 Multivariate explorative Analyse (Mietspiegel)\n",
    "\n",
    "In vielen Städte und Gemeinden werden sogenannte Mietspiegel erstellt, die eine Marktübersicht zu Miethöhen bereitstellen. Diese werden gerne von Sachverständigen, Vermietern und Mietinteressenten zurate gezogen. In §558, Ab- satz (2) des bürgerlichen Gesetzbuchs ist die ortsübliche Vergleichsmiete definiert: „Die ortsübliche Vergleichsmiete wird gebildet aus den üblichen Entgelten, die in der Gemeinde oder einer vergleichbaren Gemeinde für Wohnraum vergleichbarer Art, Größe, Ausstattung, Beschaffenheit und Lage einschließlich der energetischen Ausstattung und Beschaffenheit in den letzten vier Jahren vereinbart oder, von Erhöhungen nach §560 abgesehen, geändert worden sind.“ Das bedeutet für die Nettomiete, dass ihr Durchschnittswert in Abhängigkeit von Merkmalen wie Art, Größe, Ausstattung, Beschaffenheit und Lage der Wohnung zu bestimmen bzw. zu schätzen ist.\n",
    "\n",
    "Im Rahmen dieser Übung werden Sie einen Mietspiegel aus München untersuchen, einer Gegend, die bekannt für außerordentlich hohe Mieten ist.\n",
    "\n",
    "**Ihre Daten**\n",
    "\n",
    "* Sie finden die Daten, die Sie für diese Übung benötigen, [hier](https://data.bialonski.de/ds/mietspiegel2015.txt).\n",
    "\n",
    "**Ihre Aufgaben**\n",
    "\n",
    "(1) Importieren Sie die Daten."
   ]
  },
  {
   "cell_type": "code",
   "execution_count": 151,
   "metadata": {},
   "outputs": [
    {
     "name": "stdout",
     "output_type": "stream",
     "text": [
      "Columns before:  Index(['nm', 'nmqm', 'wfl', 'rooms', 'bj', 'bez', 'wohngut', 'wohnbest', 'ww0',\n",
      "       'zh0', 'badkach0', 'badextra', 'kueche'],\n",
      "      dtype='object')\n",
      "Columns after:  Index(['nettomiete', 'nettomiete_pro_quadratmeter', 'wohnfläche',\n",
      "       'zimmeranzahl', 'baujahr', 'bezirk', 'zustand_des_wohnung',\n",
      "       'wohnungsbestand', 'warmwasser_inklusive', 'zentralheizung_inklusive',\n",
      "       'badezimmer_mit_dusche', 'zusaetzliches_badezimmer', 'kueche'],\n",
      "      dtype='object')\n"
     ]
    },
    {
     "data": {
      "text/html": [
       "<div>\n",
       "<style scoped>\n",
       "    .dataframe tbody tr th:only-of-type {\n",
       "        vertical-align: middle;\n",
       "    }\n",
       "\n",
       "    .dataframe tbody tr th {\n",
       "        vertical-align: top;\n",
       "    }\n",
       "\n",
       "    .dataframe thead th {\n",
       "        text-align: right;\n",
       "    }\n",
       "</style>\n",
       "<table border=\"1\" class=\"dataframe\">\n",
       "  <thead>\n",
       "    <tr style=\"text-align: right;\">\n",
       "      <th></th>\n",
       "      <th>nettomiete</th>\n",
       "      <th>nettomiete_pro_quadratmeter</th>\n",
       "      <th>wohnfläche</th>\n",
       "      <th>zimmeranzahl</th>\n",
       "      <th>baujahr</th>\n",
       "      <th>bezirk</th>\n",
       "      <th>zustand_des_wohnung</th>\n",
       "      <th>wohnungsbestand</th>\n",
       "      <th>warmwasser_inklusive</th>\n",
       "      <th>zentralheizung_inklusive</th>\n",
       "      <th>badezimmer_mit_dusche</th>\n",
       "      <th>zusaetzliches_badezimmer</th>\n",
       "      <th>kueche</th>\n",
       "    </tr>\n",
       "  </thead>\n",
       "  <tbody>\n",
       "    <tr>\n",
       "      <th>3060</th>\n",
       "      <td>549.00</td>\n",
       "      <td>8.19</td>\n",
       "      <td>67</td>\n",
       "      <td>3</td>\n",
       "      <td>1957.5</td>\n",
       "      <td>Fledmoching-Hasenbergel</td>\n",
       "      <td>0</td>\n",
       "      <td>0</td>\n",
       "      <td>0</td>\n",
       "      <td>0</td>\n",
       "      <td>1</td>\n",
       "      <td>0</td>\n",
       "      <td>0</td>\n",
       "    </tr>\n",
       "    <tr>\n",
       "      <th>3061</th>\n",
       "      <td>873.50</td>\n",
       "      <td>11.80</td>\n",
       "      <td>74</td>\n",
       "      <td>3</td>\n",
       "      <td>1972.0</td>\n",
       "      <td>Bogenhausen</td>\n",
       "      <td>0</td>\n",
       "      <td>1</td>\n",
       "      <td>0</td>\n",
       "      <td>0</td>\n",
       "      <td>1</td>\n",
       "      <td>1</td>\n",
       "      <td>0</td>\n",
       "    </tr>\n",
       "    <tr>\n",
       "      <th>3062</th>\n",
       "      <td>1130.00</td>\n",
       "      <td>13.95</td>\n",
       "      <td>81</td>\n",
       "      <td>3</td>\n",
       "      <td>1972.0</td>\n",
       "      <td>Bogenhausen</td>\n",
       "      <td>0</td>\n",
       "      <td>1</td>\n",
       "      <td>0</td>\n",
       "      <td>0</td>\n",
       "      <td>1</td>\n",
       "      <td>1</td>\n",
       "      <td>0</td>\n",
       "    </tr>\n",
       "    <tr>\n",
       "      <th>3063</th>\n",
       "      <td>440.00</td>\n",
       "      <td>16.30</td>\n",
       "      <td>27</td>\n",
       "      <td>1</td>\n",
       "      <td>1972.0</td>\n",
       "      <td>Schwabing West</td>\n",
       "      <td>1</td>\n",
       "      <td>0</td>\n",
       "      <td>0</td>\n",
       "      <td>0</td>\n",
       "      <td>1</td>\n",
       "      <td>0</td>\n",
       "      <td>1</td>\n",
       "    </tr>\n",
       "    <tr>\n",
       "      <th>3064</th>\n",
       "      <td>625.43</td>\n",
       "      <td>7.36</td>\n",
       "      <td>85</td>\n",
       "      <td>4</td>\n",
       "      <td>1957.5</td>\n",
       "      <td>Schwabing West</td>\n",
       "      <td>1</td>\n",
       "      <td>0</td>\n",
       "      <td>0</td>\n",
       "      <td>0</td>\n",
       "      <td>1</td>\n",
       "      <td>0</td>\n",
       "      <td>0</td>\n",
       "    </tr>\n",
       "  </tbody>\n",
       "</table>\n",
       "</div>"
      ],
      "text/plain": [
       "      nettomiete  nettomiete_pro_quadratmeter  wohnfläche  zimmeranzahl  \\\n",
       "3060      549.00                         8.19          67             3   \n",
       "3061      873.50                        11.80          74             3   \n",
       "3062     1130.00                        13.95          81             3   \n",
       "3063      440.00                        16.30          27             1   \n",
       "3064      625.43                         7.36          85             4   \n",
       "\n",
       "      baujahr                   bezirk  zustand_des_wohnung  wohnungsbestand  \\\n",
       "3060   1957.5  Fledmoching-Hasenbergel                    0                0   \n",
       "3061   1972.0              Bogenhausen                    0                1   \n",
       "3062   1972.0              Bogenhausen                    0                1   \n",
       "3063   1972.0           Schwabing West                    1                0   \n",
       "3064   1957.5           Schwabing West                    1                0   \n",
       "\n",
       "      warmwasser_inklusive  zentralheizung_inklusive  badezimmer_mit_dusche  \\\n",
       "3060                     0                         0                      1   \n",
       "3061                     0                         0                      1   \n",
       "3062                     0                         0                      1   \n",
       "3063                     0                         0                      1   \n",
       "3064                     0                         0                      1   \n",
       "\n",
       "      zusaetzliches_badezimmer  kueche  \n",
       "3060                         0       0  \n",
       "3061                         1       0  \n",
       "3062                         1       0  \n",
       "3063                         0       1  \n",
       "3064                         0       0  "
      ]
     },
     "execution_count": 151,
     "metadata": {},
     "output_type": "execute_result"
    }
   ],
   "source": [
    "# Reading the data mit sep=' ' weil die Werte durch Leerzeichen getrennt sind\n",
    "miete = pd.read_csv(\"mietspiegel2015.txt\", sep=' ')\n",
    "\n",
    "# Die Spaltenname sind schwer zu lesen, deshalb benennen wir die um (inplace = True, damit die Änderungen direkt im DataFrame gespeichert werden und kein neuer DataFrame erstellt wird)\n",
    "print(\"Columns before: \", miete.columns)\n",
    "miete.rename(columns={'nm':'nettomiete',\n",
    "                      'nmqm': 'nettomiete_pro_quadratmeter',\n",
    "                      'wfl': 'wohnfläche',\n",
    "                      'rooms': 'zimmeranzahl',\n",
    "                      'bj': \"baujahr\",\n",
    "                      'bez': 'bezirk',\n",
    "                      'wohngut': 'zustand_des_wohnung',\n",
    "                      'wohnbest': 'wohnungsbestand',\n",
    "                      'ww0': 'warmwasser_inklusive',\n",
    "                      'zh0': 'zentralheizung_inklusive',\n",
    "                      'badkach0': 'badezimmer_mit_dusche',\n",
    "                      'badextra': 'zusaetzliches_badezimmer'\n",
    "                      }, inplace=True)\n",
    "print(\"Columns after: \", miete.columns)\n",
    "miete.tail()"
   ]
  },
  {
   "cell_type": "markdown",
   "metadata": {},
   "source": [
    "(2) Erzeugen Sie ein Säulendiagramm, dass die Häufigkeiten der Zimmeranzahl (rooms) zeigt."
   ]
  },
  {
   "cell_type": "code",
   "execution_count": 187,
   "metadata": {},
   "outputs": [
    {
     "name": "stdout",
     "output_type": "stream",
     "text": [
      "Total number of houses in the dataset:  3065\n"
     ]
    },
    {
     "data": {
      "image/png": "[encoded data removed]",
      "text/plain": [
       "<Figure size 640x480 with 1 Axes>"
      ]
     },
     "metadata": {},
     "output_type": "display_data"
    }
   ],
   "source": [
    "# We want to answer the question : how often does each number of rooms appear in the dataset from münchen rents?\n",
    "\n",
    "total_number_of_houses = miete.shape[0]\n",
    "print(\"Total number of houses in the dataset: \", total_number_of_houses)\n",
    "number_of_house_per_number_of_room = miete.groupby('zimmeranzahl')['zimmeranzahl'].agg('count')  \n",
    "frequency_of_rooms = number_of_house_per_number_of_room / total_number_of_houses \n",
    "\n",
    "# Plotting \n",
    "frequency_of_rooms.plot(kind='bar', title='Frequency of Number of Rooms per House in München in 2015', xlabel='Number of Rooms per House', ylabel='Frequency')\n",
    "plt.show()"
   ]
  },
  {
   "cell_type": "markdown",
   "metadata": {},
   "source": [
    "(3) Erstellen Sie eine 5-Number-Summary (Fünf-Punkte–Zusammenfassung) für die Variable Baujahr (bj). "
   ]
  },
  {
   "cell_type": "markdown",
   "metadata": {},
   "source": [
    "(4) Berechnen Sie die 5-Number-Summary für die Variablen Nettomiete (nm) und Nettomiete/Quadratmeter (nmqm), jeweils getrennt für Wohnungen, die vor bzw. nach dem Jahr 1958 gebaut wurden. Erstellen Sie ebenfalls die dazugehörigen Boxplots. Interpretieren Sie Ihre Ergebnisse. (1-3 Sätze)"
   ]
  },
  {
   "cell_type": "markdown",
   "metadata": {},
   "source": [
    "(5) Führen Sie die Analyse aus Schritt (4) noch einmal durch, allerdings schichten Sie hier Ihre Analyse nicht mehr nach \"Baujahr vor oder nach 1958\" sondern nach der Anzahl der Räume (rooms). Das bedeutet, dass Sie Boxplots der Nettomiete (nm), der Nettomiete/Quadratmeter (nmqm) in Abhängigkeit der Raumanzahl erstellen. Interpretieren Sie Ihre Ergebnisse. (1-3 Sätze)."
   ]
  },
  {
   "cell_type": "markdown",
   "metadata": {},
   "source": [
    "(6) Erkunden Sie nun etwaige Zusammenhänge zwischen den Variablen Nettomiete (nm), Nettomiete/Quadratmeter (nmqm), Wohnfläche (wfl) und Anzahl der Räume (rooms), indem Sie einen [Scatter-Matrix-Plot](https://pandas.pydata.org/pandas-docs/stable/reference/api/pandas.plotting.scatter_matrix.html) erstellen."
   ]
  },
  {
   "cell_type": "markdown",
   "metadata": {},
   "source": [
    "(7) Interpretieren Sie den Ihren Plot aus Schritt 6: Sehen Sie Zusammenhänge zwischen einzelnen Variablen? (1-3 Sätze)"
   ]
  },
  {
   "cell_type": "markdown",
   "metadata": {},
   "source": [
    "(8) Berechnen Sie Pearsons Korrelationskoeffizienten für alle Paare von Variablen aus Schritt (6). Schätzen Sie ein, welche Variablen miteinander schwach, mittel oder stark korreliert sind. Interpretieren Sie Ihre Ergebnisse (1-3 Sätze). Achten Sie dabei unter anderem auf Ihren Befund zwischen Zimmerzahl und Nettomiete/Quadratmeter sowie Nettomiete und Wohnfläche."
   ]
  },
  {
   "cell_type": "markdown",
   "metadata": {},
   "source": [
    "(9) Berechnen Sie Spearmans Korrelationskoeffizient für alle Paare von Variablen aus Schritt (6). Vergleichen Sie die Werte, die Sie erhalten, mit den Werten von Pearsons Korrelationskoeffizienten aus Schritt (8). Für welches Feature-Paar sehen Sie in beiden Koeffizienten die größten Unterschiede? Wie interpretieren Sie diesen Unterschied?\n",
    "\n",
    "* Wenn Sie wünschen, finden Sie hier einen ROT13-kodierten Hinweis: Fpuyntra Fvr va qre Ibeyrfhat anpu, jrypur Neg iba Mhfnzzraunat Crnefbaf Xbeeryngvbafxbrssvmvrag haq jrypur Neg iba Mhfnzzraunat Fcrneznaf Xbeeryngvbafxbrssvmvrag punenxgrevfvrera."
   ]
  },
  {
   "cell_type": "markdown",
   "metadata": {},
   "source": [
    "### 4.4 Pearsons Korrelationskoeffizient und Invarianz\n",
    "\n",
    "Betrachten Sie die beiden Merkmale $X$ und $Y$ sowie ihre linearen Transformationen\n",
    "\n",
    "$$\\tilde{X} = a_X X + b_X, \\quad a_X\\neq 0$$\n",
    "\n",
    "und\n",
    "\n",
    "$$\\tilde{Y} = a_Y Y + b_Y, \\quad a_Y\\neq 0$$\n",
    "\n",
    "\n",
    "**Ihre Aufgaben**\n",
    "\n",
    "(1) Schlagen Sie in der Vorlesung die Definition von Pearsons Korrelationskoeffizienten nach."
   ]
  },
  {
   "cell_type": "markdown",
   "metadata": {},
   "source": [
    "(2) Zeigen Sie, dass für Pearsons Korrelationskoeffizient $r_{XY}$ gilt:\n",
    "\n",
    "$$ |r_{\\tilde{X}\\tilde{Y}}| = |r_{XY}|$$\n",
    "\n",
    "Diese Invarianz unter linearen Transformationen wird auch *Maßstabsunabhängigkeit* genannt."
   ]
  }
 ],
 "metadata": {
  "hide_input": false,
  "kernelspec": {
   "display_name": "Python 3 (ipykernel)",
   "language": "python",
   "name": "python3"
  },
  "language_info": {
   "codemirror_mode": {
    "name": "ipython",
    "version": 3
   },
   "file_extension": ".py",
   "mimetype": "text/x-python",
   "name": "python",
   "nbconvert_exporter": "python",
   "pygments_lexer": "ipython3",
   "version": "3.11.7"
  },
  "learntools_metadata": {
   "lesson_index": 0,
   "type": "exercise"
  }
 },
 "nbformat": 4,
 "nbformat_minor": 4
}
