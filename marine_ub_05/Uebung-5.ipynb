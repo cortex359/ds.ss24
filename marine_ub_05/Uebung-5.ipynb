{
 "cells": [
  {
   "cell_type": "markdown",
   "metadata": {},
   "source": [
    "# Übung 5\n",
    "\n",
    "**Gruppenname:**\n",
    "\n",
    "*Name Ihrer Gruppe*\n",
    "\n",
    "Gehen Sie wie folgt vor:\n",
    "\n",
    "1. Bitte benennen Sie jetzt dieses Jupyter Notebook um (z.B. über `File -> Rename`):\n",
    "\n",
    "   Namensschema: `Gruppenname-X`. Ersetzen Sie \"X\" mit der oben angegebenen Nummer der Übung.\n",
    "\n",
    "   - Beispiel 1: Team REZA bearbeitet Übung 2. Das Notebook heißt: REZA-2.\n",
    "   - Beispiel 2: Sie sind keinem Team zugeordnet (nicht empfehlenswert) und bearbeiten Übung 2: Ihr Notebook heißt: Nachname-2.\n",
    "\n",
    "\n",
    "2. Tragen Sie Ihren Gruppennamen auch ganz oben bei \"Name Ihrer Gruppe\" ein.\n",
    "\n",
    "3. Bearbeiten Sie dann dieses Notebook. Vergessen Sie dabei nicht, das Jupyter Notebook regelmäßig zu speichern (z.B. über `Strg + S` oder über `File -> Save and Checkpoint`)."
   ]
  },
  {
   "cell_type": "markdown",
   "metadata": {},
   "source": [
    "### In dieser Übung ...\n",
    "\n",
    "werden Sie einen echten Datenfall bearbeiten, der die Firma Tesla betrifft. In diesem Fall werden Sie sich mit dem Thema *Datenaufbereitung* und dessen Konsequenzen beschäftigen. Nach dieser Aufgabe werden Sie sich noch einmal mit explorativer Analyse und Zusammenhangsmaßen (wie beispielsweise der *Mutual Information*) beschäftigen."
   ]
  },
  {
   "cell_type": "markdown",
   "metadata": {},
   "source": [
    "### 5.1 Der Fall Tesla: Autopilot\n",
    "\n",
    "* In diesem Datenfall üben Sie Ihre Fähigkeiten, Datensätze zu erschließen, aufzubereiten und auf Plausibilität zu prüfen.\n",
    "\n",
    "Seit wenigen Jahren verstärken verschiedene Unternehmen und Startups ihre Bemühungen, autonome Fahrzeuge zu entwickeln. Solche selbststeuerenden Fahrzeuge versprechen eine Vielzahl neuer Anwendungen und haben das Potenzial, unser Verhältnis zu Autos zu verändern. Manche Visionäre sprechen bereits von \"mobility as a service\", bei der Autos nicht mehr besessen, sondern per App für eine Fahrt geliehen werden und selbstständig fahren.\n",
    "\n",
    "Bei der Entwicklung von autonomen Fahrzeugen verfolgen verschiedene Hersteller eine schrittweise Strategie, nach der Assistenzfunktionen zum Parken oder für das Halten der Fahrspur nach und nach den Fahrern zur Verfügung gestellt werden. Tesla stellt den sogenannten *Autopilot* bereit, der das Feature *Autosteer* zum automatischen Halten der Fahrspur enthält.\n",
    "\n",
    "[Im Jahr 2016 verunglückte Joshua Brown](https://www.nytimes.com/2016/07/02/business/joshua-brown-technology-enthusiast-tested-the-limits-of-his-tesla.html) in Florida in einem Tesla Model S, während das Autosteer Feature aktiviert war. Er war damit der erste (soweit bekannte) Todesfall, der in einem selbstfahrenden Auto eingetreten ist.\n",
    "\n",
    "Die NHTSA, eine Bundesbehörde der USA im Bereich des Verkehrsministeriums, untersuchte den Fall und forderte Zahlen von Tesla an, die die Sicherheit des Autosteering Features belegen sollten. Anhand dieser Zahlen konnte die Behörde im Jahr 2017 folgende Feststellung machen:"
   ]
  },
  {
   "cell_type": "markdown",
   "metadata": {},
   "source": [
    "![Abbildung](https://data.bialonski.de/ds/tesla_autosteer_nhtsa.png)"
   ]
  },
  {
   "cell_type": "markdown",
   "metadata": {},
   "source": [
    "Die Anzahl der Airbag-Auslösungen dient dabei als ein Anhaltspunkt für die Anzahl der Unfälle. Dieser Auswertung zufolge reduziert *Autosteer* die Unfallwahrscheinlichkeit um 40%!"
   ]
  },
  {
   "cell_type": "markdown",
   "metadata": {},
   "source": [
    "Der dieser Statistik zugrundeliegende Datensatz wurde aufgrund eines Antrags basierend auf dem Informationsfreiheitsgesetz der USA (Freedom of Information Act) verfügbar gemacht und steht Ihnen in dieser Übung zur Verfügung.\n",
    "\n",
    "**Ihre Daten**\n",
    "\n",
    "* Sie finden die Daten, die Sie für diese Übung benötigen, [hier](https://data.bialonski.de/ds/tesla.xlsx).\n"
   ]
  },
  {
   "cell_type": "markdown",
   "metadata": {},
   "source": [
    "Wir werden die folgenden Eigenschaften [1-6] untersuchen:\n",
    "\n",
    "1. Kilometerstand (in Meilen) bevor der Installation von Autosteer (\"1l Previous Mileage before Autosteer Install\").\n",
    "\n",
    "   * Dieser Wert wurde abgelesen vor Installation von Autosteer.\n",
    "\n",
    "\n",
    "2. Kilometerstand (in Meilen) nach der Installation von Autosteer (\"1l Next Mileage after Autosteer Install\")\n",
    "\n",
    "   * Dieser Wert wurde abgelesen nach Installation von Autosteer.\n",
    "   \n",
    "   \n",
    "3. Gefahrene Meilen vor Autosteer-Installation (\"Miles before Autosteer\")\n",
    "\n",
    "   * Dieser Wert wurde von Tesla so angegeben.\n",
    "\n",
    "\n",
    "4. Gefahrene Meilen nach Autosteer Installation (\"Miles after Autosteer\")\n",
    "\n",
    "   * Dieser Wert wurde von Tesla so angegeben.\n",
    "\n",
    "\n",
    "5. Airbag-Auslösungen vor Autosteer-Installation (\"Airbag events before Autosteer\")\n",
    "\n",
    "   * Dieser Wert wurde von Tesla so angegeben.\n",
    "\n",
    "\n",
    "6. Airbag-Auslösungen nach Autosteer-Installation (\"Airbag events after Autosteer\")\n",
    "\n",
    "   * Dieser Wert wurde von Tesla so angegeben.\n"
   ]
  },
  {
   "cell_type": "markdown",
   "metadata": {},
   "source": [
    "**Ihre Aufgaben**\n",
    "\n",
    "Für die nachfolgenden Aufgaben benötigen Sie Ihre Neugier und etwas detektivisches Gespür.\n",
    "\n",
    "(1) Betrachten Sie zunächst mit einer Tabellenkalkulation den oben hinterlegten Datensatz. Suchen Sie nach den oben erwähnten sechs Eigenschaften. \n",
    "\n",
    "   * Importieren Sie nun mithilfe von Pandas die oben sechs erwähnten Eigenschaften aus der Excel-Datei. Dabei kann es hilfreich sein, das entsprechende Sheet der Excel-Datei in Pandas anzugeben, aus dem Sie die Daten importieren müssen."
   ]
  },
  {
   "cell_type": "code",
   "execution_count": 2,
   "metadata": {},
   "outputs": [
    {
     "data": {
      "text/html": [
       "<div>\n",
       "<style scoped>\n",
       "    .dataframe tbody tr th:only-of-type {\n",
       "        vertical-align: middle;\n",
       "    }\n",
       "\n",
       "    .dataframe tbody tr th {\n",
       "        vertical-align: top;\n",
       "    }\n",
       "\n",
       "    .dataframe thead th {\n",
       "        text-align: right;\n",
       "    }\n",
       "</style>\n",
       "<table border=\"1\" class=\"dataframe\">\n",
       "  <thead>\n",
       "    <tr style=\"text-align: right;\">\n",
       "      <th></th>\n",
       "      <th>1l Previous Mileage before Autosteer Install</th>\n",
       "      <th>1l Next Mileage after Autosteer Install</th>\n",
       "      <th>Airbag events before Autosteer</th>\n",
       "      <th>Airbag events after Autosteer</th>\n",
       "      <th>Miles before Autosteer</th>\n",
       "      <th>Miles after Autosteer</th>\n",
       "    </tr>\n",
       "  </thead>\n",
       "  <tbody>\n",
       "    <tr>\n",
       "      <th>0</th>\n",
       "      <td>0.0</td>\n",
       "      <td>NaN</td>\n",
       "      <td>NaN</td>\n",
       "      <td>NaN</td>\n",
       "      <td>NaN</td>\n",
       "      <td>NaN</td>\n",
       "    </tr>\n",
       "    <tr>\n",
       "      <th>1</th>\n",
       "      <td>12145.0</td>\n",
       "      <td>12145.0</td>\n",
       "      <td>NaN</td>\n",
       "      <td>NaN</td>\n",
       "      <td>12145.0</td>\n",
       "      <td>7990.0</td>\n",
       "    </tr>\n",
       "    <tr>\n",
       "      <th>2</th>\n",
       "      <td>6165.0</td>\n",
       "      <td>6165.0</td>\n",
       "      <td>NaN</td>\n",
       "      <td>NaN</td>\n",
       "      <td>6165.0</td>\n",
       "      <td>3183.0</td>\n",
       "    </tr>\n",
       "    <tr>\n",
       "      <th>3</th>\n",
       "      <td>463.0</td>\n",
       "      <td>20147.0</td>\n",
       "      <td>NaN</td>\n",
       "      <td>NaN</td>\n",
       "      <td>463.0</td>\n",
       "      <td>17036.0</td>\n",
       "    </tr>\n",
       "    <tr>\n",
       "      <th>4</th>\n",
       "      <td>20128.0</td>\n",
       "      <td>20128.0</td>\n",
       "      <td>NaN</td>\n",
       "      <td>NaN</td>\n",
       "      <td>20128.0</td>\n",
       "      <td>15370.0</td>\n",
       "    </tr>\n",
       "  </tbody>\n",
       "</table>\n",
       "</div>"
      ],
      "text/plain": [
       "   1l Previous Mileage before Autosteer Install  \\\n",
       "0                                           0.0   \n",
       "1                                       12145.0   \n",
       "2                                        6165.0   \n",
       "3                                         463.0   \n",
       "4                                       20128.0   \n",
       "\n",
       "   1l Next Mileage after Autosteer Install  Airbag events before Autosteer  \\\n",
       "0                                      NaN                             NaN   \n",
       "1                                  12145.0                             NaN   \n",
       "2                                   6165.0                             NaN   \n",
       "3                                  20147.0                             NaN   \n",
       "4                                  20128.0                             NaN   \n",
       "\n",
       "   Airbag events after Autosteer  Miles before Autosteer  \\\n",
       "0                            NaN                     NaN   \n",
       "1                            NaN                 12145.0   \n",
       "2                            NaN                  6165.0   \n",
       "3                            NaN                   463.0   \n",
       "4                            NaN                 20128.0   \n",
       "\n",
       "   Miles after Autosteer  \n",
       "0                    NaN  \n",
       "1                 7990.0  \n",
       "2                 3183.0  \n",
       "3                17036.0  \n",
       "4                15370.0  "
      ]
     },
     "execution_count": 2,
     "metadata": {},
     "output_type": "execute_result"
    }
   ],
   "source": [
    "import matplotlib.pyplot as plt\n",
    "import numpy as np\n",
    "import pandas as pd\n",
    "\n",
    "# Read the data\n",
    "tesla = pd.read_excel(\"tesla.xlsx\", \n",
    "                   sheet_name=\"PE16_007_PRODUCTION DATA\", \n",
    "                   usecols=[\"1l Previous Mileage before Autosteer Install\",\n",
    "                            \"1l Next Mileage after Autosteer Install\",\n",
    "                            \"Miles before Autosteer\",\n",
    "                            \"Miles after Autosteer\",\n",
    "                            \"Airbag events before Autosteer\",\n",
    "                            \"Airbag events after Autosteer\"], skipfooter=4) # skip the last 4 rows\n",
    "tesla.head()"
   ]
  },
  {
   "cell_type": "markdown",
   "metadata": {},
   "source": [
    "(2) Von wie vielen Fahrzeugen wurden Daten erhoben? Nennen Sie die Anzahl der Fahrzeuge, indem Sie sie aus Ihren Daten aus Teilaufgabe (1) bestimmen."
   ]
  },
  {
   "cell_type": "code",
   "execution_count": 3,
   "metadata": {},
   "outputs": [
    {
     "name": "stdout",
     "output_type": "stream",
     "text": [
      "Die Daten wurden von 43781 Fahrzeugen gesammelt.\n"
     ]
    }
   ],
   "source": [
    "print(\"Die Daten wurden von \"+ str(tesla.shape[0])+ \" Fahrzeugen gesammelt.\")\n",
    "# unrelevante Zeilen finden : zeige alle Zeilen ab 43785 und davon alle Spalten    - > nicht mehr nötig dank skipfooter in read_excel bei der import Funktion)\n",
    "# tesla.loc[:43785,:]\n",
    " "
   ]
  },
  {
   "cell_type": "markdown",
   "metadata": {},
   "source": [
    "(3) Reproduzieren Sie die beiden Zahlen der NHTSA Behörde der USA, d.h. berechnen Sie die Anzahl der Airbag-Auslösungen vor Autosteer-Installation pro 1 Million gefahrener Meilen und nach Autosteer-Installation pro 1 Million gefahrener Meilen und geben Sie sie an.\n",
    "\n",
    "   * Wenn Sie nicht auf die Zahlen der NHTSA kommen, lesen Sie diesen [Rot-13](https://rot13.de/index.php) kodierten Hinweis: Süe qvr Orerpuahat ahgmra Fvr ovggr qvr Qngraervura qerv ovf frpuf jvr vz Nofpuavgg \"Vuer Qngra\" natrtrora."
   ]
  },
  {
   "cell_type": "code",
   "execution_count": 4,
   "metadata": {},
   "outputs": [
    {
     "name": "stdout",
     "output_type": "stream",
     "text": [
      "Anzahl der Airbag-Auslösungen pro 1 Million gefahrener Meilen Autosteer-Installation:  1.3\n",
      "Anzahl der Airbag-Auslösungen pro 1 Million gefahrener Meilen nach Autosteer-Installation:  0.8\n"
     ]
    }
   ],
   "source": [
    "# berechnen Sie die Anzahl der Airbag-Auslösungen \n",
    "# vor Autosteer-Installation pro 1 Million gefahrener Meilen \n",
    "# und nach Autosteer-Installation pro 1 Million gefahrener Meilen und geben Sie sie an\n",
    "number_of_airbag_events_before = tesla[\"Airbag events before Autosteer\"].sum()\n",
    "number_of_miles_before = tesla[\"Miles before Autosteer\"].loc[:43780].dropna().sum()\n",
    "number_of_airbag_events_per_million_miles_before = number_of_airbag_events_before *1e6/ number_of_miles_before\n",
    "\n",
    "number_of_airbag_events_after = tesla[\"Airbag events after Autosteer\"].sum()\n",
    "number_of_miles_after = tesla[\"Miles after Autosteer\"].loc[:43780].dropna().sum()\n",
    "number_of_airbag_events_per_million_miles_after = number_of_airbag_events_after *1e6/ number_of_miles_after\n",
    "\n",
    "print(\"Anzahl der Airbag-Auslösungen pro 1 Million gefahrener Meilen Autosteer-Installation: \", number_of_airbag_events_per_million_miles_before.round(1))\n",
    "print(\"Anzahl der Airbag-Auslösungen pro 1 Million gefahrener Meilen nach Autosteer-Installation: \", number_of_airbag_events_per_million_miles_after.round(1))\n",
    "\n"
   ]
  },
  {
   "cell_type": "code",
   "execution_count": 5,
   "metadata": {},
   "outputs": [
    {
     "data": {
      "text/html": [
       "<div>\n",
       "<style scoped>\n",
       "    .dataframe tbody tr th:only-of-type {\n",
       "        vertical-align: middle;\n",
       "    }\n",
       "\n",
       "    .dataframe tbody tr th {\n",
       "        vertical-align: top;\n",
       "    }\n",
       "\n",
       "    .dataframe thead th {\n",
       "        text-align: right;\n",
       "    }\n",
       "</style>\n",
       "<table border=\"1\" class=\"dataframe\">\n",
       "  <thead>\n",
       "    <tr style=\"text-align: right;\">\n",
       "      <th></th>\n",
       "      <th>1l Previous Mileage before Autosteer Install</th>\n",
       "      <th>1l Next Mileage after Autosteer Install</th>\n",
       "      <th>Airbag events before Autosteer</th>\n",
       "      <th>Airbag events after Autosteer</th>\n",
       "      <th>Miles before Autosteer</th>\n",
       "      <th>Miles after Autosteer</th>\n",
       "    </tr>\n",
       "  </thead>\n",
       "  <tbody>\n",
       "    <tr>\n",
       "      <th>5506</th>\n",
       "      <td>27214.0</td>\n",
       "      <td>27214.0</td>\n",
       "      <td>NaN</td>\n",
       "      <td>1.0</td>\n",
       "      <td>27214.0</td>\n",
       "      <td>-27214.0</td>\n",
       "    </tr>\n",
       "    <tr>\n",
       "      <th>1302</th>\n",
       "      <td>17818.0</td>\n",
       "      <td>17818.0</td>\n",
       "      <td>NaN</td>\n",
       "      <td>1.0</td>\n",
       "      <td>17818.0</td>\n",
       "      <td>-17818.0</td>\n",
       "    </tr>\n",
       "    <tr>\n",
       "      <th>19669</th>\n",
       "      <td>13989.0</td>\n",
       "      <td>13989.0</td>\n",
       "      <td>NaN</td>\n",
       "      <td>NaN</td>\n",
       "      <td>13989.0</td>\n",
       "      <td>-13989.0</td>\n",
       "    </tr>\n",
       "    <tr>\n",
       "      <th>10405</th>\n",
       "      <td>0.0</td>\n",
       "      <td>10609.0</td>\n",
       "      <td>NaN</td>\n",
       "      <td>NaN</td>\n",
       "      <td>0.0</td>\n",
       "      <td>-10609.0</td>\n",
       "    </tr>\n",
       "    <tr>\n",
       "      <th>9989</th>\n",
       "      <td>0.0</td>\n",
       "      <td>9278.0</td>\n",
       "      <td>NaN</td>\n",
       "      <td>NaN</td>\n",
       "      <td>0.0</td>\n",
       "      <td>-9278.0</td>\n",
       "    </tr>\n",
       "    <tr>\n",
       "      <th>...</th>\n",
       "      <td>...</td>\n",
       "      <td>...</td>\n",
       "      <td>...</td>\n",
       "      <td>...</td>\n",
       "      <td>...</td>\n",
       "      <td>...</td>\n",
       "    </tr>\n",
       "    <tr>\n",
       "      <th>16794</th>\n",
       "      <td>946.0</td>\n",
       "      <td>NaN</td>\n",
       "      <td>NaN</td>\n",
       "      <td>NaN</td>\n",
       "      <td>946.0</td>\n",
       "      <td>NaN</td>\n",
       "    </tr>\n",
       "    <tr>\n",
       "      <th>16857</th>\n",
       "      <td>28.0</td>\n",
       "      <td>NaN</td>\n",
       "      <td>NaN</td>\n",
       "      <td>NaN</td>\n",
       "      <td>28.0</td>\n",
       "      <td>NaN</td>\n",
       "    </tr>\n",
       "    <tr>\n",
       "      <th>18722</th>\n",
       "      <td>594.0</td>\n",
       "      <td>NaN</td>\n",
       "      <td>NaN</td>\n",
       "      <td>NaN</td>\n",
       "      <td>594.0</td>\n",
       "      <td>NaN</td>\n",
       "    </tr>\n",
       "    <tr>\n",
       "      <th>19485</th>\n",
       "      <td>224.0</td>\n",
       "      <td>NaN</td>\n",
       "      <td>NaN</td>\n",
       "      <td>NaN</td>\n",
       "      <td>224.0</td>\n",
       "      <td>NaN</td>\n",
       "    </tr>\n",
       "    <tr>\n",
       "      <th>20889</th>\n",
       "      <td>1062.0</td>\n",
       "      <td>NaN</td>\n",
       "      <td>NaN</td>\n",
       "      <td>NaN</td>\n",
       "      <td>1062.0</td>\n",
       "      <td>NaN</td>\n",
       "    </tr>\n",
       "  </tbody>\n",
       "</table>\n",
       "<p>43781 rows × 6 columns</p>\n",
       "</div>"
      ],
      "text/plain": [
       "       1l Previous Mileage before Autosteer Install  \\\n",
       "5506                                        27214.0   \n",
       "1302                                        17818.0   \n",
       "19669                                       13989.0   \n",
       "10405                                           0.0   \n",
       "9989                                            0.0   \n",
       "...                                             ...   \n",
       "16794                                         946.0   \n",
       "16857                                          28.0   \n",
       "18722                                         594.0   \n",
       "19485                                         224.0   \n",
       "20889                                        1062.0   \n",
       "\n",
       "       1l Next Mileage after Autosteer Install  \\\n",
       "5506                                   27214.0   \n",
       "1302                                   17818.0   \n",
       "19669                                  13989.0   \n",
       "10405                                  10609.0   \n",
       "9989                                    9278.0   \n",
       "...                                        ...   \n",
       "16794                                      NaN   \n",
       "16857                                      NaN   \n",
       "18722                                      NaN   \n",
       "19485                                      NaN   \n",
       "20889                                      NaN   \n",
       "\n",
       "       Airbag events before Autosteer  Airbag events after Autosteer  \\\n",
       "5506                              NaN                            1.0   \n",
       "1302                              NaN                            1.0   \n",
       "19669                             NaN                            NaN   \n",
       "10405                             NaN                            NaN   \n",
       "9989                              NaN                            NaN   \n",
       "...                               ...                            ...   \n",
       "16794                             NaN                            NaN   \n",
       "16857                             NaN                            NaN   \n",
       "18722                             NaN                            NaN   \n",
       "19485                             NaN                            NaN   \n",
       "20889                             NaN                            NaN   \n",
       "\n",
       "       Miles before Autosteer  Miles after Autosteer  \n",
       "5506                  27214.0               -27214.0  \n",
       "1302                  17818.0               -17818.0  \n",
       "19669                 13989.0               -13989.0  \n",
       "10405                     0.0               -10609.0  \n",
       "9989                      0.0                -9278.0  \n",
       "...                       ...                    ...  \n",
       "16794                   946.0                    NaN  \n",
       "16857                    28.0                    NaN  \n",
       "18722                   594.0                    NaN  \n",
       "19485                   224.0                    NaN  \n",
       "20889                  1062.0                    NaN  \n",
       "\n",
       "[43781 rows x 6 columns]"
      ]
     },
     "execution_count": 5,
     "metadata": {},
     "output_type": "execute_result"
    }
   ],
   "source": [
    "\n",
    "## draft : oh es gibt negative Werte in der Spalte \"Miles after Autosteer\" !\n",
    "tesla.sort_values(by='Miles after Autosteer', ascending=True)  # use \"by\" to get the ide help, but also work without"
   ]
  },
  {
   "cell_type": "markdown",
   "metadata": {},
   "source": [
    "(4) Bis hierher stimmen unsere Analysen mit der US-Behörde überein. Doch es gibt Ungereimtheiten in den Daten. Betrachten Sie dazu die Datenreihen 1 und 2, d.h. die Kilometerstände (in Meilen) der Fahrzeuge vor und nach der Installation von Autosteer. Vor der Installation von Autosteer wird der Kilometerstand erhoben; nach der Installation von Autosteer wird der Kilometerstand erhoben:\n",
    "\n",
    "1. Welche Erwartungshaltung haben Sie an die beiden Datensätze? (1 Satz)\n",
    "\n",
    "2. Explorieren Sie diese beiden Datensätze (Stichwort: Explorative Analyse). Was fällt Ihnen auf? (1 Satz)\n",
    "\n",
    "Wenn Sie partout nicht mehr weiter kommen, gebe ich Ihnen einen Tipp: Jraa Fvr ibe qre Vafgnyyngvba iba Nhgbfgrre qra Xvybzrgrefgnaq nofpuervora jüeqra, haq anpu qre Vafgnyyngvba rorasnyyf qra Xvybzrfgrefgnaq abgvrera, jüeqra fvpu qvr orvqra Xvybzrgrefgäaqr hagrefpurvqra bqre fbyygra fvr tyrvpu frva?"
   ]
  },
  {
   "cell_type": "markdown",
   "metadata": {},
   "source": [
    "- **1) Erwartungshaltung über die Kilometerstände der Fahrzeuge vor und nach der Installation von Autosteer**\n",
    "    - Man erwartet, dass die Kilometeranzahl sich nicht unterscheidet"
   ]
  },
  {
   "cell_type": "code",
   "execution_count": 6,
   "metadata": {},
   "outputs": [
    {
     "name": "stdout",
     "output_type": "stream",
     "text": [
      "Mit der Summe in der Unterschiede : 133682965.0 sieht man, dass sich die Meilenanzahl nach der Autosteer-Installation erhöht hat.\n",
      "Auch interessant: der Durchnittlicher Unterschied 3069.0\n"
     ]
    }
   ],
   "source": [
    "# 2) Exploratory Data Analysis (EDA) \n",
    "tesla_previous_mileage = tesla['1l Previous Mileage before Autosteer Install']\n",
    "tesla_next_mileage = tesla['1l Next Mileage after Autosteer Install']\n",
    "sum_of_difference_in_mileage_before_and_after_autosteer_installation = (tesla_next_mileage - tesla_previous_mileage).sum()\n",
    "average_of_difference_in_mileage_before_and_after_autosteer_installation = (tesla_next_mileage - tesla_previous_mileage).mean()\n",
    "\n",
    "print(\"Mit der Summe in der Unterschiede : \"+ str(sum_of_difference_in_mileage_before_and_after_autosteer_installation.round()) + \" sieht man, dass sich die Meilenanzahl nach der Autosteer-Installation erhöht hat.\")\n",
    "print(\"Auch interessant: der Durchnittlicher Unterschied \" + str(average_of_difference_in_mileage_before_and_after_autosteer_installation.round()))"
   ]
  },
  {
   "cell_type": "markdown",
   "metadata": {},
   "source": [
    "(5) Problem 1: Identifizieren Sie anhand Ihrer Beobachtungen aus Schritt (4) die Fahrzeuge, bei denen Sie genau feststellen konnten, zu welchem Kilometerstand Autosteer tatsächlich installiert worden sein muss. Betrachten Sie **nur** die Fahrzeuge aus dieser Menge, für die tatsächlich gefahrenen Kilometer (mehr als 0) vor der Autosteer-Installation ausgewiesen wurden.\n",
    "\n",
    "* Wie viele Fahrzeuge erfüllen die gerade genannten Kriterien?\n",
    "* Bestimmen Sie die Anzahl der Airbag-Auslösungen pro gefahrenen 1 Million Meilen vor und nach der Installation von Autosteer. Geben Sie diese Zahlen an. Was stellen Sie fest? \n",
    "* Vergleichen Sie Ihre Zahlen mit den oben angegebenen Zahlen der NHTSA. Sehen Sie gleiche oder unterschiedliche Tendenzen?"
   ]
  },
  {
   "cell_type": "code",
   "execution_count": 10,
   "metadata": {},
   "outputs": [
    {
     "name": "stdout",
     "output_type": "stream",
     "text": [
      "Anzahl der Fahrzeuge mit unterschiedlichem Stand vor und nach der Installation von Autosteer:  23373\n"
     ]
    }
   ],
   "source": [
    "#  Bei wie vielen Fahrzeugen ist der Stand vor und nach Installation von Autosteer unterschiedlich ?\n",
    "number_of_vehicles_with_different_mileage = (tesla_next_mileage != tesla_previous_mileage).sum()\n",
    "print(\"Anzahl der Fahrzeuge mit unterschiedlichem Stand vor und nach der Installation von Autosteer: \", number_of_vehicles_with_different_mileage)\n"
   ]
  },
  {
   "cell_type": "markdown",
   "metadata": {},
   "source": [
    "(6) Problem 2: Identifizieren Sie anhand Ihrer Beobachtungen aus Schritt (4) die Fahrzeuge, bei denen Sie genau feststellen konnten, zu welchem Kilometerstand Autosteer tatsächlich installiert worden sein muss. Betrachten Sie nun alle Fahrzeuge aus dieser Menge, die **keine gefahrenen Kilometer vor der Autosteer-Installation** aufweisen.\n",
    "\n",
    "* Wie viele Fahrzeuge erfüllen die gerade genannten Kriterien?\n",
    "* Wie viele Airbag-Auslösungen vor der Installation von Autosteer beobachten Sie für diese Gruppe von Fahrzeugen?\n",
    "* Welche Auswirkung hat Ihre Beobachtung auf die Größe der Anzahl an Airbag-Auslösungen pro 1 Million gefahrener Meilen, wie sie die NHTSA berechnet hat?"
   ]
  },
  {
   "cell_type": "code",
   "execution_count": null,
   "metadata": {},
   "outputs": [],
   "source": [
    "# ????????????"
   ]
  },
  {
   "cell_type": "markdown",
   "metadata": {},
   "source": [
    "(7) Problem 3: Identifizieren Sie anhand Ihrer Beobachtungen aus Schritt (4) die Fahrzeuge, bei denen Sie **nicht** genau feststellen können, zu welchem Kilometerstand Autosteer tatsächlich installiert wurde. Betrachten Sie **nur** die Fahrzeuge aus dieser Menge, für die tatsächlich mehr als 0 gefahrene Kilometer vor der Autosteer-Installation ausgewiesen wurden.\n",
    "\n",
    "1. Wie viele Autos sind in dieser Menge enthalten? Wie viele Airbag-Auslösungen sind in dieser Menge enthalten?\n",
    "2. Bestimmen Sie die Gesamtanzahl der gefahrenen Meilen über alle Fahrzeuge dieser Menge, die zwischen dem Kilometerstand vor Autosteer-Installation und nach Autoinstallation gefahren wurden. Dies sind die \"Gap\"-Meilen, bei denen wir nicht wissen, zu welcher exakten Kilometerstandszahl Autosteer installiert wurde.\n",
    "3. Bestimmen Sie die Gesamtanzahl aller Meilen dieser Menge, die vor der Autosteer-Installation gefahren wurden. \n",
    "4. Vergleichen Sie die Zahlen aus Schritt 7.2 und 7.3: Ist die gefahrene Gesamtmeilenzahl vor Autosteer-Installation deutlich größer oder kleiner als die Gesamtmeilenzahl der \"Gap\"-Meilen?\n",
    "\n",
    "Welchen Schluss ziehen Sie für die Validität der NHTSA Untersuchung aus Ihren Beobachtungen aus diesem Schritt? (1-3 Sätze)."
   ]
  },
  {
   "cell_type": "code",
   "execution_count": null,
   "metadata": {},
   "outputs": [],
   "source": []
  },
  {
   "cell_type": "markdown",
   "metadata": {},
   "source": [
    "(8) Problem 4: Identifizieren Sie anhand Ihrer Beobachtungen aus Schritt (4) die Fahrzeuge, bei denen Sie **nicht** genau feststellen können, zu welchem Kilometerstand Autosteer tatsächlich installiert wurde. Betrachten Sie **nur** die Fahrzeuge aus dieser Menge, für die nur 0 gefahrene Kilometer vor der Autosteer-Installation ausgewiesen wurden.\n",
    "\n",
    "1. Wie viele Autos sind in dieser Menge enthalten?\n",
    "2. Wie viele Airbag-Auslösungen können Sie vor und nach der Autosteer-Installation feststellen?\n",
    "\n",
    "Wie deuten Sie Ihre Beobachtungen hinsichtlich der Validität der NHTSA Untersuchung? (1-3 Sätze)"
   ]
  },
  {
   "cell_type": "code",
   "execution_count": null,
   "metadata": {},
   "outputs": [],
   "source": []
  },
  {
   "cell_type": "markdown",
   "metadata": {},
   "source": [
    "(9) Abschluss: Betrachten Sie Ihre Ergebnisse zu Problemen 1-4. Lässt sich aufgrund der vorliegenden Zahlen die Aussage treffen, dass durch Autosteer die Anzahl der Airbag-Auslösungen pro gefahrene 1 Million Meilen zurückgegangen ist und damit das Fahren sicherer geworden ist? Argumentieren Sie in wenigen Sätzen."
   ]
  },
  {
   "cell_type": "code",
   "execution_count": null,
   "metadata": {},
   "outputs": [],
   "source": []
  },
  {
   "cell_type": "markdown",
   "metadata": {},
   "source": [
    "## 5.2 Multivariate explorative Analyse II (Palmer Pinguine & Parallel Coordinates Plots)"
   ]
  },
  {
   "cell_type": "markdown",
   "metadata": {},
   "source": [
    "In dieser Übung untersuchen Sie Daten verschiedener Pinguin-Gattungen, die während einer Forschungsmission in der Antarktis an der [Palmer-Station](https://de.wikipedia.org/wiki/Palmer-Station) gesammelt wurden. Der Datensatz stammt aus einer [Publikation](https://doi.org/10.1371/journal.pone.0090081), die das Futtersuchverhalten der Tiere untersuchte. Sie werden die Daten mithilfe von [**Parallel Coordinates Plots**](https://de.wikipedia.org/wiki/Parallele_Koordinaten) (PCPs, ||-Plots) untersuchen. PCPs sind wirkungsvolle Instrumente für eine Exploration höherdimensionaler Räume, die Sie im Rahmen dieser Übung kennenlernen werden. Sie spielen in vielen explorativen Analysen eine Rolle, beispielsweise auch bei der [Parameterexploration](https://web.archive.org/web/20240423104335/https://docs.wandb.ai/guides/app/features/panels/parallel-coordinates) zum Training tiefer neuronaler Netze.\n",
    "\n",
    "Es begrüßen Sie:\n",
    "\n",
    "<img src=\"https://allisonhorst.github.io/palmerpenguins/reference/figures/lter_penguins.png\" alt=\"Palmer Penguins\" width=\"600\" style=\"background-color: white\"/>\n",
    "\n",
    "**Hinweis**\n",
    "\n",
    "- Für diese Übung müssen Sie die Bibliotheken [hiplot](https://github.com/facebookresearch/hiplot) und [seaborn](https://seaborn.pydata.org/installing.html) installieren, sollten Sie sie noch nicht installiert haben.\n"
   ]
  },
  {
   "cell_type": "markdown",
   "metadata": {},
   "source": [
    "(1) Importieren Sie den Datensatz in einen Pandas DataFrame.\n",
    "\n",
    "- URL des Datensatzes: `https://data.bialonski.de/ds/palmerpenguins.csv`"
   ]
  },
  {
   "cell_type": "code",
   "execution_count": 8,
   "metadata": {},
   "outputs": [],
   "source": [
    "penguin = pd.read_csv(\"https://data.bialonski.de/ds/palmerpenguins.csv\")"
   ]
  },
  {
   "cell_type": "code",
   "execution_count": 16,
   "metadata": {},
   "outputs": [],
   "source": [
    "import hiplot as hip\n",
    "import seaborn as sns\n"
   ]
  },
  {
   "cell_type": "markdown",
   "metadata": {},
   "source": [
    "(2) Untersuchen Sie den Datensatz und beantworten Sie bitte folgende Fragen:\n",
    "- Welche Features sind enthalten? \n",
    "- Wie viele Datenpunkte gibt es? \n",
    "- Wie viele Klassen (`species`) gibt es?\n",
    "- Wie viele Datenpunkte gibt es pro Klasse?"
   ]
  },
  {
   "cell_type": "code",
   "execution_count": 9,
   "metadata": {},
   "outputs": [
    {
     "name": "stdout",
     "output_type": "stream",
     "text": [
      "Features :  Index(['species', 'island', 'bill_length_mm', 'bill_depth_mm',\n",
      "       'flipper_length_mm', 'body_mass_g'],\n",
      "      dtype='object')\n",
      "Datenpunkten: 344\n",
      "Number of Species: 3\n",
      "The species are:  ['Adelie' 'Gentoo' 'Chinstrap']\n",
      "Anzahl von Datenpunkte pro Klasse:\n"
     ]
    },
    {
     "data": {
      "text/plain": [
       "species\n",
       "Adelie       152\n",
       "Gentoo       124\n",
       "Chinstrap     68\n",
       "Name: count, dtype: int64"
      ]
     },
     "execution_count": 9,
     "metadata": {},
     "output_type": "execute_result"
    }
   ],
   "source": [
    "print(\"Features : \", penguin.columns)\n",
    "print(\"Datenpunkten:\", penguin.shape[0])\n",
    "\n",
    "# Wie viele verschiedene Arten von Pinguinen gibt es und wie viele Pinguine gehören zu jeder Art?\n",
    "different_species = penguin[\"species\"].unique()\n",
    "print(\"Number of Species:\", len(different_species))\n",
    "print(\"The species are: \", different_species)\n",
    "\n",
    "print(\"Anzahl von Datenpunkte pro Klasse:\" )\n",
    "penguin[\"species\"].value_counts()"
   ]
  },
  {
   "cell_type": "markdown",
   "metadata": {},
   "source": [
    "(3) Erstellen Sie einen Scatter-Matrix-Plot des oben beschriebenen Datensatzes, **wobei jeder Datenpunkt durch eine Farbe entsprechend der Spezies gekennzeichnet wird**. <br/>\n",
    "Verwenden Sie dazu die Bibliothek `seaborn` und die Funktion [`pairplot`](https://seaborn.pydata.org/generated/seaborn.pairplot.html).\n",
    "\n",
    "*Hinweis: `pairplot` interpretiert die numerischen Spalten des Datensatzes automatisch als Features. Aus diesem Grund erscheinen nicht zwingend alle Spalten im Scatter-Matrix-Plot.*"
   ]
  },
  {
   "cell_type": "code",
   "execution_count": 12,
   "metadata": {},
   "outputs": [
    {
     "ename": "AttributeError",
     "evalue": "module 'pandas' has no attribute 'pairplot'",
     "output_type": "error",
     "traceback": [
      "\u001b[0;31m---------------------------------------------------------------------------\u001b[0m",
      "\u001b[0;31mAttributeError\u001b[0m                            Traceback (most recent call last)",
      "Cell \u001b[0;32mIn[12], line 2\u001b[0m\n\u001b[1;32m      1\u001b[0m \u001b[38;5;66;03m# Seaborn/Pairplot : Plot pairwise relationships in a dataset.\u001b[39;00m\n\u001b[0;32m----> 2\u001b[0m pd\u001b[38;5;241m.\u001b[39mpairplot(penguin, hue\u001b[38;5;241m=\u001b[39m\u001b[38;5;124m\"\u001b[39m\u001b[38;5;124mspecies\u001b[39m\u001b[38;5;124m\"\u001b[39m)\n",
      "\u001b[0;31mAttributeError\u001b[0m: module 'pandas' has no attribute 'pairplot'"
     ]
    }
   ],
   "source": [
    "# Seaborn/Pairplot : Plot pairwise relationships in a dataset.\n",
    "penguins = sns.load_dataset(\"penguin\")\n",
    "sns.pairplot(penguins)\n",
    "\n",
    ".pairplot(penguin, hue=\"species\")"
   ]
  },
  {
   "cell_type": "markdown",
   "metadata": {},
   "source": [
    "*Falls Sie wissen möchten, was es mit dem sogenannten \"Bill\" auf sich hat:*\n",
    "\n",
    "<img src=\"https://allisonhorst.github.io/palmerpenguins/reference/figures/culmen_depth.png\" alt=\"Palmer Penguins\" width=\"600\"/>"
   ]
  },
  {
   "cell_type": "markdown",
   "metadata": {},
   "source": [
    "(4) Die drei Pinguingattungen erscheinen im Scatter-Matrix-Plot der vorherigen Teilaufgabe als \"Punktwolken\" (mehr dazu in einer späteren Vorlesungseinheit zum Thema *Clustering*).\n",
    "\n",
    "- Versuchen Sie nun, die drei Gattungen mithilfe sogenannter \"Bounding Boxes\" in den Plots zu identifizieren. Suchen Sie dazu nach Featurepaaren, in denen sich die Klassen gut voneinander unterscheiden lassen. Für jede \"Bounding Box\" benötigen Sie jeweils ein Intervall für die x- und y-Achse, welche die Punktwolke einer Gattung möglichst gut einschließt. \n",
    "\n",
    "Fiktives Beispiel:\n",
    "- Gattung A: `body_mass_g` $\\in [3000, 5000]$ und `flipper_length_mm` $\\in [170, 200]$"
   ]
  },
  {
   "cell_type": "markdown",
   "metadata": {},
   "source": [
    "(5) Erstellen Sie einen interaktiven Parallel Coordinates Plot (||-Plot) des oben beschriebenen Datensatzes. <br/>\n",
    "\n",
    "- Sollten Sie keinen interaktiven Plot erstellen können, bitten wir Sie, für diese Übung in einen anderen Editor (wie Jupyter Notebook oder Jupyter Lab) zu wechseln.\n",
    "\n",
    "1. Erstellen Sie einen ||-Plot mit der Bibliothek [`hiplot`](https://ai.meta.com/blog/hiplot-high-dimensional-interactive-plots-made-easy/) und den Funktionen [`Experiment.from_dataframe`](https://facebookresearch.github.io/hiplot/py_reference.html) sowie [`Experiment.display`](https://facebookresearch.github.io/hiplot/py_reference.html#hiplot.Experiment.display). \n",
    "2. Nutzen Sie die Methode `colorby`, um das Feature `species` für die Farbkodierung auszuwählen. Die Linien Ihres Plots werden dann gemäß der Pinguingattung eingefärbt.\n",
    "3. **Wichtig:** Sie müssen sich mit der (nicht direkt ersichtlichen) interaktiven Bedienung des Plots vertraut machen. Klicken Sie dazu im Plot oben auf \"Help\" und durchlaufen Sie das dort hinterlegte Tutorial."
   ]
  },
  {
   "cell_type": "markdown",
   "metadata": {},
   "source": [
    "(6) Versuchen Sie, mithilfe von geschicktem Slicing der verschiedenen Features im Parallel Coordinates Plot die jeweiligen Gattungen zu identifizieren. Orientieren Sie sich gerne an Ihren Ergebnissen bzw. Intervallen aus Teilaufgabe (4)."
   ]
  },
  {
   "cell_type": "markdown",
   "metadata": {},
   "source": [
    "(7) Versuchen Sie nun, bessere \"Bounding Boxes\" zu finden, um die Gattungen besser voneinander zu trennen. Betrachten Sie dabei insbesondere Features, die in der vorherigen Aufgabe nicht verwendet wurden. *(Zur Erinnerung: bisher wurden nur numerische Features betrachtet.)*"
   ]
  },
  {
   "cell_type": "markdown",
   "metadata": {},
   "source": [
    "(8) Vergleichen Sie die beiden Visualisierungen und diskutieren Sie die Vor- und Nachteile der beiden Ansätze. "
   ]
  },
  {
   "cell_type": "markdown",
   "metadata": {},
   "source": [
    "### 5.3 Zusammenhangsmaße (Teil 1): Spearman vs Pearson\n",
    "\n",
    "In dieser Übung werden wir synthetische Daten generieren und damit Spearmans- und Pearsons Korrelationskoeffizienten untersuchen.\n",
    "\n",
    "**Ihre Daten**\n",
    "\n",
    "Bei den Daten handelt es sich um die berühmte Fibonacci-Folge, eine unendliche Folge, die vom italienischen Mathematiker Leonardo Fibonacci im 12. Jahrhundert zur Beschreibung der Entwicklung einer Kaninchenpopulation aufgestellt wurde. \n",
    "\n",
    "Sei $y_n$ das n-te Glied der Folge und seien $y_1 = 0$ und $y_2 = 1$. Dann ist $y_n$ für $n\\geq 3$ definiert als $$y_n = y_{n-1} + y_{n-2}.$$\n",
    "\n",
    "\n",
    "**Ihre Aufgaben**\n",
    "\n",
    "Nutzen Sie hauptsächlich Numpy (und ein wenig Pandas) zur Bearbeitung dieser Aufgaben.\n",
    "\n",
    "(1) Schreiben eine Funktion, die für einen gegebenen Wert $n\\in\\mathbb{N}$ das Glied der Fibonacci-Folge zurückgibt."
   ]
  },
  {
   "cell_type": "markdown",
   "metadata": {},
   "source": [
    "(2) Erzeugen Sie Ihren Datensatz. Sei $n = \\{1, \\ldots, 30\\}$. Erstellen Sie mit Ihrer Funktion aus Schritt (1) die Folge $y_n$ für alle $n$. Sie erhalten damit Wertepaare $(n, y_n)$, die Sie z.B. in einem Numpy Array hinterlegen können."
   ]
  },
  {
   "cell_type": "markdown",
   "metadata": {},
   "source": [
    "(3) Schlagen Sie die Definition des Pearson Korrelationskoeffizienten in der Vorlesung nach und implementieren Sie eine Funktion, die zwei Datenreihen entgegennimmt und Pearsons Korrelationskoeffizient zurückgibt."
   ]
  },
  {
   "cell_type": "markdown",
   "metadata": {},
   "source": [
    "(4) Bestimmen Sie dann den Pearson Korrelationskoeffizienten zwischen der Datenreihe ${n}$ und ${y_n}$ mithilfe Ihrer Funktion aus (3) und notieren Sie sich den Wert."
   ]
  },
  {
   "cell_type": "markdown",
   "metadata": {},
   "source": [
    "(5) Schlagen Sie in den Vorlesungsfolien die Definition von Spearmans Korrelationskoeffizienten nach. Kopieren Sie sich den Code aus Schritt (3) und erzeugen Sie daraus eine neue Funktion, die Spearmans Korrelationskoeffizienten implementiert. Um die Ränge zu berechnen, können Sie Pandas `rank` Funktion nutzen."
   ]
  },
  {
   "cell_type": "markdown",
   "metadata": {},
   "source": [
    "(6) Nutzen Sie Ihre Funktion aus Schritt (5), um Spearmans Korrelationskoeffizient zwischen $n$ und $y_n$ zu berechnen, die Sie in Schritt (2) erzeugt hatten."
   ]
  },
  {
   "cell_type": "markdown",
   "metadata": {},
   "source": [
    "(7) Vergleichen Sie den Wert von Pearsons Korrelationskoeffizienten (aus Schritt 4) mit dem Wert von Spearmans Korrelationskoeffizienten (aus Schritt 6). Was fällt Ihnen auf? (1 Satz). Was ist die Ursache für den Unterschied zwischen beiden Werten, den Sie feststellen? (1-3 Sätze)  "
   ]
  },
  {
   "cell_type": "markdown",
   "metadata": {},
   "source": [
    "### 5.4 Zusammenhangsmaße (Teil 2): Mutual Information, Pearson, Spearman\n",
    "\n",
    "In dieser Übung werden Sie Zusammenhänge zwischen verschiedenen Datensätzen mithilfe der Zusammenhangsmaße untersuchen, die Sie in der Vorlesung kennengelernt haben. Daneben werden Sie vertraut mit dem Importieren von Daten aus Excel-Tabellen.\n",
    "\n",
    "* Nutzen Sie Pandas und Numpy zum Bearbeiten der folgenden Aufgaben.\n",
    "\n",
    "**Ihre Daten**\n",
    "\n",
    "* Sie finden die Daten, die Sie für diese Übung benötigen, [hier](https://data.bialonski.de/ds/dependency_data.xlsx).\n",
    "\n",
    "**Ihre Aufgaben**\n",
    "\n",
    "(1) Importieren Sie die Daten mithilfe der [Funktionalität](https://pandas.pydata.org/pandas-docs/stable/reference/api/pandas.read_excel.html) von Pandas in einen DataFrame.\n",
    "\n",
    "* Visualisieren Sie die Daten zunächst **nicht** (aus didaktischen Gründen). Sie werden die Daten erst im Teilschritt (5) visualisieren."
   ]
  },
  {
   "cell_type": "markdown",
   "metadata": {},
   "source": [
    "(2) Wir betrachten im Folgenden Paare von Spalten, beispielsweise $(X, y_1)$, die wir *Datenreihenpaare* nennen werden.\n",
    "\n",
    "Berechnen Sie mit Ihrem Code aus Übung 4 den Pearson- sowie den Spearman-Korrelationskoeffizienten für die Datenreihenpaare ...\n",
    "\n",
    "1. $(X, y_1)$\n",
    "2. $(X, y_2)$\n",
    "3. $(X, y_3)$\n",
    "4. $(X, y_4)$"
   ]
  },
  {
   "cell_type": "markdown",
   "metadata": {},
   "source": [
    "(3) Beantworten Sie - ohne zu Visualisieren - anhand der Koeffizienten aus Teilaufgabe (2):\n",
    "\n",
    "* Welche der Datenreihenpaare zeigen Korrelationen? Welche Datenreihenpaare sind unkorreliert?\n",
    "* Gibt es Widersprüche zwischen den Korrelationskoeffizienten? Falls ja, für welche Daten?"
   ]
  },
  {
   "cell_type": "markdown",
   "metadata": {},
   "source": [
    "(4) Bestimmen Sie nun für die in Teilaufgabe (2) genannten Datenreihenpaare jeweils die Mutual Information. Ausgehend von Ihren Werten für die Mutual Information beantworten Sie bitte: Zwischen welchen Datenreihenpaaren gibt es Zusammenhänge, zwischen welchen Datenreihenpaare gibt es keine (großen) Zusammenhänge?\n",
    "\n",
    "* Nutzen Sie für die Bestimmung der *Mutual Information* die [Implementierung](https://scikit-learn.org/stable/modules/generated/sklearn.feature_selection.mutual_info_regression.html) der scikit-learn Bibliothek. Hintergrund: Eine robuste Schätzung der Mutual Information ist anspruchsvoll und wurde von verschiedenen Forschungsgruppen untersucht. Einer der [weltweit bekanntesten Schätzer](https://journals.aps.org/pre/pdf/10.1103/PhysRevE.69.066138) der Mutual Information wurde von Forschern des Forschungszentrum Jülichs (am John von Neumann-Institut für Computing) im Jahr 2004 publiziert und wird auch von scikit-learn implementiert."
   ]
  },
  {
   "cell_type": "markdown",
   "metadata": {},
   "source": [
    "(5) Visualisieren Sie nun alle Datenreihenpaare aus Teilaufgabe (2) in Scatterplots und beschriften Sie jeden Plot mit den entsprechenden Werten des Pearson-, Spearman-Korrelationskoeffizienten und dem Wert der Mutual Information."
   ]
  },
  {
   "cell_type": "markdown",
   "metadata": {},
   "source": [
    "(6) Begründen Sie nun für jedes Datenreihenpaar, warum Sie Korrelationen oder keine Korrelation durch Pearson, Spearman und die Mutual Information angezeigt bekommen.\n",
    "\n",
    "* Begründen Sie zusätzlich, warum Sie für Datenreihenpaar $(X, y_3)$ so unterschiedliche Ergebnisse für den Pearson- und den Spearman-Korrelationskoeffizienten erhalten haben."
   ]
  }
 ],
 "metadata": {
  "hide_input": false,
  "kernelspec": {
   "display_name": "Python 3 (ipykernel)",
   "language": "python",
   "name": "python3"
  },
  "language_info": {
   "codemirror_mode": {
    "name": "ipython",
    "version": 3
   },
   "file_extension": ".py",
   "mimetype": "text/x-python",
   "name": "python",
   "nbconvert_exporter": "python",
   "pygments_lexer": "ipython3",
   "version": "3.11.7"
  },
  "learntools_metadata": {
   "lesson_index": 0,
   "type": "exercise"
  }
 },
 "nbformat": 4,
 "nbformat_minor": 4
}
