{
 "cells": [
  {
   "cell_type": "markdown",
   "metadata": {},
   "source": [
    "# Übung 10\n",
    "\n",
    "**Gruppenname:**\n",
    "\n",
    "*Name Ihrer Gruppe*\n",
    "\n",
    "Gehen Sie wie folgt vor:\n",
    "\n",
    "1. Bitte benennen Sie jetzt dieses Jupyter Notebook um (z.B. über `File -> Rename`):\n",
    "\n",
    "   Namensschema: `Gruppenname-X`. Ersetzen Sie \"X\" mit der oben angegebenen Nummer der Übung.\n",
    "\n",
    "   - Beispiel 1: Team REZA bearbeitet Übung 2. Das Notebook heißt: REZA-2.\n",
    "   - Beispiel 2: Sie sind keinem Team zugeordnet (nicht empfehlenswert) und bearbeiten Übung 2: Ihr Notebook heißt: Nachname-2.\n",
    "\n",
    "\n",
    "2. Tragen Sie Ihren Gruppennamen auch ganz oben bei \"Name Ihrer Gruppe\" ein.\n",
    "\n",
    "3. Bearbeiten Sie dann dieses Notebook. Vergessen Sie dabei nicht, das Jupyter Notebook regelmäßig zu speichern (z.B. über `Strg + S` oder über `File -> Save and Checkpoint`)."
   ]
  },
  {
   "cell_type": "markdown",
   "metadata": {},
   "source": [
    "### In dieser Übung ...\n",
    "\n",
    "... werden wir intensiv mit einem Datensatz arbeiten und uns mit ihm vertraut machen."
   ]
  },
  {
   "cell_type": "markdown",
   "metadata": {},
   "source": [
    "### 10.1 Datenaufbereitung (Corona Pandemie)\n",
    "\n",
    "In dieser Übungsaufgabe wird es darum gehen, weitere Praxiserfahrung bei der Datenaufbereitung zu sammeln. Wie Sie im Rahmen der Veranstaltung gelernt haben, lässt sich Datenaufbereitung nur schwer auf Vorlesungsfolien vermitteln, sondern muss praktisch geübt werden. Sie werden Daten der Corona-Pandemie analysieren. Die Daten stammen vom Robert Koch Institut.\n",
    "\n",
    "- Ziel dieser Übung ist es, den Datensatz des Robert Koch Instituts so aufzubereiten, dass Sie am Ende einen Pandas DataFrame vorliegen haben, der die Anzahl Neuinfizierter pro Tag und Bundesland enthält."
   ]
  },
  {
   "cell_type": "markdown",
   "metadata": {},
   "source": [
    "**Ihre Aufgaben**\n",
    "\n",
    "\n",
    "(1) Da der Datensatz des Robert Koch Instituts mittlerweile leider nicht mehr online verfügbar ist, haben wir Ihnen [hier](https://data.bialonski.de/ds/RKI_COVID-19.zip) einen Export der Daten (aus dem März 2022) hinterlegt.\n",
    "\n",
    "- Die heruntergeladene Datei ist mehrere hundert Megabytes groß. Um Plattenplatz zu sparen, ist es empfehlenswert, die Datei in ihrem gezippten Format zu belassen. Die Pandas-Bibliothek, mit der wir die Daten später untersuchen werden, kann [gezippte Dateien direkt importieren](https://pandas.pydata.org/pandas-docs/stable/reference/api/pandas.read_csv.html).\n"
   ]
  },
  {
   "cell_type": "markdown",
   "metadata": {},
   "source": [
    "(2) Importieren Sie die Daten in einen Pandas DataFrame, den Sie `df_germany` nennen."
   ]
  },
  {
   "metadata": {
    "ExecuteTime": {
     "end_time": "2024-06-27T14:54:25.010789Z",
     "start_time": "2024-06-27T14:54:11.302603Z"
    }
   },
   "cell_type": "code",
   "source": [
    "import numpy as np\n",
    "import pandas as pd\n",
    "\n",
    "df_germany = pd.read_csv('RKI_COVID-19.zip')\n"
   ],
   "outputs": [],
   "execution_count": 8
  },
  {
   "cell_type": "markdown",
   "metadata": {},
   "source": [
    "(3) Untersuchen Sie den importierten DataFrame:\n",
    "\n",
    "- Welche Spalten weist der DataFrame auf?\n",
    "- Welche Information enthält eine Zeile des DataFrames?\n",
    "- In welcher Spalte ist die Information über die Anzahl der Neuinfizierten enthalten?"
   ]
  },
  {
   "metadata": {
    "ExecuteTime": {
     "end_time": "2024-06-27T14:54:25.025950Z",
     "start_time": "2024-06-27T14:54:25.013757Z"
    }
   },
   "cell_type": "code",
   "source": [
    "print(df_germany.columns)\n",
    "print(df_germany.loc[0])\n",
    "\n",
    "#df_germany.head()"
   ],
   "outputs": [
    {
     "name": "stdout",
     "output_type": "stream",
     "text": [
      "Index(['IdBundesland', 'Bundesland', 'IdLandkreis', 'Landkreis',\n",
      "       'Altersgruppe', 'Altersgruppe2', 'Geschlecht', 'Meldedatum', 'Refdatum',\n",
      "       'IstErkrankungsbeginn', 'NeuerFall', 'NeuerTodesfall', 'NeuGenesen',\n",
      "       'AnzahlFall', 'AnzahlTodesfall', 'AnzahlGenesen', 'Datenstand',\n",
      "       'ObjectId'],\n",
      "      dtype='object')\n",
      "IdBundesland                                 1\n",
      "Bundesland                  Schleswig-Holstein\n",
      "IdLandkreis                               1001\n",
      "Landkreis                         SK Flensburg\n",
      "Altersgruppe                           A05-A14\n",
      "Altersgruppe2                Nicht übermittelt\n",
      "Geschlecht                                   W\n",
      "Meldedatum              2022/01/14 00:00:00+00\n",
      "Refdatum                2022/01/12 00:00:00+00\n",
      "IstErkrankungsbeginn                         1\n",
      "NeuerFall                                    0\n",
      "NeuerTodesfall                              -9\n",
      "NeuGenesen                                   0\n",
      "AnzahlFall                                   1\n",
      "AnzahlTodesfall                              0\n",
      "AnzahlGenesen                                1\n",
      "Datenstand               22.03.2022, 00:00 Uhr\n",
      "ObjectId                                     1\n",
      "Name: 0, dtype: object\n"
     ]
    }
   ],
   "execution_count": 9
  },
  {
   "cell_type": "markdown",
   "metadata": {},
   "source": [
    "(4) Setzen Sie die Spalte `Meldedatum` auf den Typ datetime Index."
   ]
  },
  {
   "metadata": {
    "ExecuteTime": {
     "end_time": "2024-06-27T14:54:25.041369Z",
     "start_time": "2024-06-27T14:54:25.030178Z"
    }
   },
   "cell_type": "code",
   "source": "df_germany.set_index('Meldedatum', inplace=True)\n",
   "outputs": [],
   "execution_count": 10
  },
  {
   "cell_type": "markdown",
   "metadata": {},
   "source": [
    "(5) Erstellen Sie aus dem alten DataFrame einen neuen DataFrame `covid`, der folgende Spalten enthält:\n",
    "\n",
    "- Erste Spalte: `Meldedatum`\n",
    "- 16 weitere Spalten, die jeweils nach einem Bundesland benannt sind\n",
    "- letzte Spalte: `Deutschland`\n",
    "\n",
    "Der DataFrame enthält also die Anzahl der Neuinfizierten pro Tag (Meldedatum) und Bundesland sowie für die gesamte Bundesrepublik (Spalte Deutschland).\n",
    "\n",
    "- Beachten Sie: Vermutlich werden Sie für die Lösung dieser Teilaufgabe etwas mehr Zeit benötigen und im Internet in der Pandas Dokumentation recherchieren müssen.\n"
   ]
  },
  {
   "cell_type": "markdown",
   "metadata": {},
   "source": [
    "(6) Visualisieren Sie die Anzahl der Neuinfizierten in Nordrhein-Westfalen sowie in der gesamten Bundesrepublik als Funktion der Zeit.\n",
    "\n",
    "- Die x-Achse ist mit \"Meldedatum\" beschriftet.\n",
    "- Auf der x-Achse stehen Datumsangaben (z.B: '2020-03-17'), keine bloßen Integers.\n",
    "- Der Titel der Abbildung lautet \"Anzahl Neuinfektionen\"."
   ]
  },
  {
   "cell_type": "markdown",
   "metadata": {},
   "source": [
    "### 10.2 Exploration (Corona Pandemie)\n",
    "\n",
    "Sie werden die Daten aus der vorangegangenen Aufgabe in dieser Aufgabe analysieren.\n",
    "\n",
    "- Diese Aufgabe ist freier gehalten als die vorangegangene Aufgabe.\n"
   ]
  },
  {
   "cell_type": "markdown",
   "metadata": {},
   "source": [
    "**Schritte**\n",
    "\n",
    "(1) Importieren Sie die Daten."
   ]
  },
  {
   "cell_type": "markdown",
   "metadata": {},
   "source": [
    "(2) Untersuchen Sie die Daten: **Erzeugen Sie Fragen** an die Daten und notieren Sie sie hier."
   ]
  },
  {
   "cell_type": "markdown",
   "metadata": {},
   "source": [
    "(3) **Untersuchen** Sie Ihre Fragen mit den angegebenen Daten und **visualisieren** Sie bzw. **beschreiben** Sie Ihre Erkenntnisse.\n",
    "\n",
    "- Hinweis: Ich lade Sie herzlich dazu ein, weitere Datenquellen aus dem Netz zu Ihren Untersuchungen hinzuziehen. Geben Sie in diesem Falle Ihre Datenquellen hier an.\n"
   ]
  }
 ],
 "metadata": {
  "hide_input": false,
  "kernelspec": {
   "display_name": "Python 3 (ipykernel)",
   "language": "python",
   "name": "python3"
  },
  "language_info": {
   "codemirror_mode": {
    "name": "ipython",
    "version": 3
   },
   "file_extension": ".py",
   "mimetype": "text/x-python",
   "name": "python",
   "nbconvert_exporter": "python",
   "pygments_lexer": "ipython3",
   "version": "3.9.7"
  },
  "learntools_metadata": {
   "lesson_index": 0,
   "type": "exercise"
  }
 },
 "nbformat": 4,
 "nbformat_minor": 4
}
