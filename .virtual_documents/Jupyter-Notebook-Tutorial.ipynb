





print('Hallo Marine!')





import time
time.sleep(5)











x = 5
y = x*x
print('{} mal {} ist {}.'.format(x, x, y))


print('Ist {} mal {} tatsächlich {}?'.format(x, x, y))


y = 10









